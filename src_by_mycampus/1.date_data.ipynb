{
  "cells": [
    {
      "metadata": {
        "trusted": true
      },
      "cell_type": "code",
      "source": "import pandas as pd\nimport numpy as np\n\n\n# read_csv()에서 encoding를 지정하지 않으면 'utf-8'로 간주한다. 즉, default=='utf-8'\n# csv 파일내에 'null' 문자열이 존재함 --> na_values 지정을 해결함.\ndf = pd.read_csv('1.date_data.csv'\n                 , encoding ='euc-kr'\n                 , na_values=['null']\n                 ,dtype={'collect_date':str, \n                         '급기풍량':np.float64,   \n                         '환수유량': np.float64,   \n                         '환기온도':np.float64}\n                )\n\n",
      "execution_count": 1,
      "outputs": []
    },
    {
      "metadata": {
        "trusted": true
      },
      "cell_type": "code",
      "source": "df.head()",
      "execution_count": 2,
      "outputs": [
        {
          "output_type": "execute_result",
          "execution_count": 2,
          "data": {
            "text/html": "<div>\n<style scoped>\n    .dataframe tbody tr th:only-of-type {\n        vertical-align: middle;\n    }\n\n    .dataframe tbody tr th {\n        vertical-align: top;\n    }\n\n    .dataframe thead th {\n        text-align: right;\n    }\n</style>\n<table border=\"1\" class=\"dataframe\">\n  <thead>\n    <tr style=\"text-align: right;\">\n      <th></th>\n      <th>collect_date</th>\n      <th>급기풍량</th>\n      <th>환수유량</th>\n      <th>환기온도</th>\n    </tr>\n  </thead>\n  <tbody>\n    <tr>\n      <th>0</th>\n      <td>2017-11-01 0:00</td>\n      <td>16.802</td>\n      <td>0.477</td>\n      <td>18.87</td>\n    </tr>\n    <tr>\n      <th>1</th>\n      <td>2017-11-01 0:15</td>\n      <td>19.102</td>\n      <td>0.493</td>\n      <td>18.64</td>\n    </tr>\n    <tr>\n      <th>2</th>\n      <td>2017-11-01 0:30</td>\n      <td>16.802</td>\n      <td>0.477</td>\n      <td>18.58</td>\n    </tr>\n    <tr>\n      <th>3</th>\n      <td>2017-11-01 0:45</td>\n      <td>16.802</td>\n      <td>0.493</td>\n      <td>18.49</td>\n    </tr>\n    <tr>\n      <th>4</th>\n      <td>2017-11-01 1:00</td>\n      <td>19.102</td>\n      <td>0.460</td>\n      <td>18.41</td>\n    </tr>\n  </tbody>\n</table>\n</div>",
            "text/plain": "      collect_date    급기풍량   환수유량   환기온도\n0  2017-11-01 0:00  16.802  0.477  18.87\n1  2017-11-01 0:15  19.102  0.493  18.64\n2  2017-11-01 0:30  16.802  0.477  18.58\n3  2017-11-01 0:45  16.802  0.493  18.49\n4  2017-11-01 1:00  19.102  0.460  18.41"
          },
          "metadata": {}
        }
      ]
    },
    {
      "metadata": {
        "trusted": true
      },
      "cell_type": "code",
      "source": "df.describe()",
      "execution_count": 3,
      "outputs": [
        {
          "output_type": "execute_result",
          "execution_count": 3,
          "data": {
            "text/html": "<div>\n<style scoped>\n    .dataframe tbody tr th:only-of-type {\n        vertical-align: middle;\n    }\n\n    .dataframe tbody tr th {\n        vertical-align: top;\n    }\n\n    .dataframe thead th {\n        text-align: right;\n    }\n</style>\n<table border=\"1\" class=\"dataframe\">\n  <thead>\n    <tr style=\"text-align: right;\">\n      <th></th>\n      <th>급기풍량</th>\n      <th>환수유량</th>\n      <th>환기온도</th>\n    </tr>\n  </thead>\n  <tbody>\n    <tr>\n      <th>count</th>\n      <td>5765.000000</td>\n      <td>5768.000000</td>\n      <td>5769.000000</td>\n    </tr>\n    <tr>\n      <th>mean</th>\n      <td>2551.708990</td>\n      <td>106.886250</td>\n      <td>16.838487</td>\n    </tr>\n    <tr>\n      <th>std</th>\n      <td>6498.661862</td>\n      <td>133.393844</td>\n      <td>7.007271</td>\n    </tr>\n    <tr>\n      <th>min</th>\n      <td>9.896000</td>\n      <td>0.000000</td>\n      <td>3.040000</td>\n    </tr>\n    <tr>\n      <th>25%</th>\n      <td>22.556000</td>\n      <td>0.127000</td>\n      <td>10.380000</td>\n    </tr>\n    <tr>\n      <th>50%</th>\n      <td>26.008000</td>\n      <td>0.627000</td>\n      <td>17.100000</td>\n    </tr>\n    <tr>\n      <th>75%</th>\n      <td>31.762000</td>\n      <td>265.331000</td>\n      <td>23.980000</td>\n    </tr>\n    <tr>\n      <th>max</th>\n      <td>31117.389000</td>\n      <td>398.483000</td>\n      <td>27.010000</td>\n    </tr>\n  </tbody>\n</table>\n</div>",
            "text/plain": "               급기풍량         환수유량         환기온도\ncount   5765.000000  5768.000000  5769.000000\nmean    2551.708990   106.886250    16.838487\nstd     6498.661862   133.393844     7.007271\nmin        9.896000     0.000000     3.040000\n25%       22.556000     0.127000    10.380000\n50%       26.008000     0.627000    17.100000\n75%       31.762000   265.331000    23.980000\nmax    31117.389000   398.483000    27.010000"
          },
          "metadata": {}
        }
      ]
    },
    {
      "metadata": {},
      "cell_type": "markdown",
      "source": "### Date 연산, 처리\n#### strptime() - 문자열을 파싱해서 date타입으로 변환\n#### strftime() - date타입을 문자열로 변환"
    },
    {
      "metadata": {
        "trusted": true
      },
      "cell_type": "code",
      "source": "import datetime\n\nd = datetime.datetime.strptime('2019-01-23 19:30', '%Y-%m-%d %H:%M')\nprint(d)\nprint(d.weekday()) # 0==월요일, 5==토요일,6==일요일",
      "execution_count": 11,
      "outputs": [
        {
          "output_type": "stream",
          "text": "2019-01-23 19:30:00\n2\n",
          "name": "stdout"
        }
      ]
    },
    {
      "metadata": {
        "trusted": true
      },
      "cell_type": "code",
      "source": "print(d.strftime(\"%H시 %M분 %S초\"))\n",
      "execution_count": 12,
      "outputs": [
        {
          "output_type": "stream",
          "text": "19시 30분 00초\n",
          "name": "stdout"
        }
      ]
    },
    {
      "metadata": {
        "trusted": true
      },
      "cell_type": "code",
      "source": "onehour = datetime.timedelta(hours=1)\nprint(d+onehour)\n",
      "execution_count": 14,
      "outputs": [
        {
          "output_type": "stream",
          "text": "2019-01-23 20:30:00\n",
          "name": "stdout"
        }
      ]
    },
    {
      "metadata": {
        "trusted": true
      },
      "cell_type": "code",
      "source": "oneday = datetime.timedelta(days=1)\nprint(d+oneday)",
      "execution_count": null,
      "outputs": []
    },
    {
      "metadata": {
        "trusted": true
      },
      "cell_type": "code",
      "source": "for i in range(7):\n    print(d + datetime.timedelta(days=i))",
      "execution_count": 17,
      "outputs": [
        {
          "output_type": "stream",
          "text": "2019-01-23 19:30:00\n2019-01-24 19:30:00\n2019-01-25 19:30:00\n2019-01-26 19:30:00\n2019-01-27 19:30:00\n2019-01-28 19:30:00\n2019-01-29 19:30:00\n",
          "name": "stdout"
        }
      ]
    },
    {
      "metadata": {},
      "cell_type": "markdown",
      "source": "###  요일 처리, 요일 이름을 한글로"
    },
    {
      "metadata": {
        "trusted": true
      },
      "cell_type": "code",
      "source": "# 'csv'파일의  첫번째 컬럼 이름이 'collect_date'로 되어 있다\n# 날짜 시간으로 부터 요일을 구하자\n\n# 일단 '2017-11-01 0:00' 문자열로부터 요일을 구하는 함수를 정의(define)한다.\n# def xxxx()는 함수를 정의하는 것. 함수가 실행되는 것은 아님.\ndef get_dayofweek_int(datestr):\n  # 파일내의 시간정보 포맷: 2017-11-01 0:00\n  dinfo = datetime.datetime.strptime(datestr, '%Y-%m-%d %H:%M')\n  # dinfo.weekday() 가 요일.  5==토요일,6==일요일,\n  # 아래의 print는 디버깅용. 실행할때는 comment out 하는 것이 좋음.\n  #print(datestr, '-->', dinfo.weekday())\n  return dinfo.weekday()",
      "execution_count": 44,
      "outputs": []
    },
    {
      "metadata": {
        "trusted": true
      },
      "cell_type": "code",
      "source": "# 요일의 한글이름  \ndef get_dayofweek_hangul(datestr):\n  hangul_weekday = ['월', '화', '수', '목', '금', '토', '일'] \n  dinfo = datetime.datetime.strptime(datestr, '%Y-%m-%d %H:%M')\n  return hangul_weekday[dinfo.weekday()]",
      "execution_count": 45,
      "outputs": []
    },
    {
      "metadata": {
        "trusted": true
      },
      "cell_type": "code",
      "source": "# 컬럼이 주어지면 그 컬럼의 min,max,std 출력\ndef print_info_column(col):\n  #print(type(col))\n  print('# 컬럼', col.name, end='\\t')\n  print('MAX: %.1f' % col.max(), end=' ')\n  print('MIN: %.1f' % col.min(), end=' ')\n  print('AVG: %.1f' % col.mean(), end=' ')\n  print('STD: %.1f' % col.std(), end='\\n')",
      "execution_count": 46,
      "outputs": []
    },
    {
      "metadata": {},
      "cell_type": "markdown",
      "source": "### map() 활용 - 칼럼값에 대한 연산 수행\n#### 요일 컬럼을 새로 만든다\n"
    },
    {
      "metadata": {
        "trusted": true
      },
      "cell_type": "code",
      "source": "  \ndf.fillna(0) # excel 에서 null 필드는 0로 채워라\ndf['DAYWEEK'] = df.collect_date.map(get_dayofweek_int) #DAYWEEK 필드의 값을 복사해서 파싱해라\ndf['요일'] = df.collect_date.map(get_dayofweek_int)\n",
      "execution_count": 56,
      "outputs": []
    },
    {
      "metadata": {
        "trusted": true
      },
      "cell_type": "code",
      "source": "df.head(10)",
      "execution_count": 52,
      "outputs": [
        {
          "output_type": "execute_result",
          "execution_count": 52,
          "data": {
            "text/html": "<div>\n<style scoped>\n    .dataframe tbody tr th:only-of-type {\n        vertical-align: middle;\n    }\n\n    .dataframe tbody tr th {\n        vertical-align: top;\n    }\n\n    .dataframe thead th {\n        text-align: right;\n    }\n</style>\n<table border=\"1\" class=\"dataframe\">\n  <thead>\n    <tr style=\"text-align: right;\">\n      <th></th>\n      <th>collect_date</th>\n      <th>급기풍량</th>\n      <th>환수유량</th>\n      <th>환기온도</th>\n      <th>DAYWEEK</th>\n      <th>요일</th>\n    </tr>\n  </thead>\n  <tbody>\n    <tr>\n      <th>0</th>\n      <td>2017-11-01 0:00</td>\n      <td>16.802</td>\n      <td>0.477</td>\n      <td>18.87</td>\n      <td>2</td>\n      <td>2</td>\n    </tr>\n    <tr>\n      <th>1</th>\n      <td>2017-11-01 0:15</td>\n      <td>19.102</td>\n      <td>0.493</td>\n      <td>18.64</td>\n      <td>2</td>\n      <td>2</td>\n    </tr>\n    <tr>\n      <th>2</th>\n      <td>2017-11-01 0:30</td>\n      <td>16.802</td>\n      <td>0.477</td>\n      <td>18.58</td>\n      <td>2</td>\n      <td>2</td>\n    </tr>\n    <tr>\n      <th>3</th>\n      <td>2017-11-01 0:45</td>\n      <td>16.802</td>\n      <td>0.493</td>\n      <td>18.49</td>\n      <td>2</td>\n      <td>2</td>\n    </tr>\n    <tr>\n      <th>4</th>\n      <td>2017-11-01 1:00</td>\n      <td>19.102</td>\n      <td>0.460</td>\n      <td>18.41</td>\n      <td>2</td>\n      <td>2</td>\n    </tr>\n    <tr>\n      <th>5</th>\n      <td>2017-11-01 1:15</td>\n      <td>19.102</td>\n      <td>0.427</td>\n      <td>18.36</td>\n      <td>2</td>\n      <td>2</td>\n    </tr>\n    <tr>\n      <th>6</th>\n      <td>2017-11-01 1:30</td>\n      <td>16.802</td>\n      <td>0.493</td>\n      <td>18.29</td>\n      <td>2</td>\n      <td>2</td>\n    </tr>\n    <tr>\n      <th>7</th>\n      <td>2017-11-01 1:45</td>\n      <td>16.802</td>\n      <td>0.477</td>\n      <td>18.25</td>\n      <td>2</td>\n      <td>2</td>\n    </tr>\n    <tr>\n      <th>8</th>\n      <td>2017-11-01 2:00</td>\n      <td>17.953</td>\n      <td>0.427</td>\n      <td>18.22</td>\n      <td>2</td>\n      <td>2</td>\n    </tr>\n    <tr>\n      <th>9</th>\n      <td>2017-11-01 2:15</td>\n      <td>16.802</td>\n      <td>0.443</td>\n      <td>18.18</td>\n      <td>2</td>\n      <td>2</td>\n    </tr>\n  </tbody>\n</table>\n</div>",
            "text/plain": "      collect_date    급기풍량   환수유량   환기온도  DAYWEEK  요일\n0  2017-11-01 0:00  16.802  0.477  18.87        2   2\n1  2017-11-01 0:15  19.102  0.493  18.64        2   2\n2  2017-11-01 0:30  16.802  0.477  18.58        2   2\n3  2017-11-01 0:45  16.802  0.493  18.49        2   2\n4  2017-11-01 1:00  19.102  0.460  18.41        2   2\n5  2017-11-01 1:15  19.102  0.427  18.36        2   2\n6  2017-11-01 1:30  16.802  0.493  18.29        2   2\n7  2017-11-01 1:45  16.802  0.477  18.25        2   2\n8  2017-11-01 2:00  17.953  0.427  18.22        2   2\n9  2017-11-01 2:15  16.802  0.443  18.18        2   2"
          },
          "metadata": {}
        }
      ]
    },
    {
      "metadata": {
        "trusted": true
      },
      "cell_type": "code",
      "source": "### 일요일만 출력해보자\ndf[df.요일 == '일'].head()",
      "execution_count": 54,
      "outputs": [
        {
          "output_type": "error",
          "ename": "TypeError",
          "evalue": "invalid type comparison",
          "traceback": [
            "\u001b[0;31m---------------------------------------------------------------------------\u001b[0m",
            "\u001b[0;31mTypeError\u001b[0m                                 Traceback (most recent call last)",
            "\u001b[0;32m<ipython-input-54-306e4400aac8>\u001b[0m in \u001b[0;36m<module>\u001b[0;34m\u001b[0m\n\u001b[1;32m      1\u001b[0m \u001b[0;31m### 일요일만 출력해보자\u001b[0m\u001b[0;34m\u001b[0m\u001b[0;34m\u001b[0m\u001b[0m\n\u001b[0;32m----> 2\u001b[0;31m \u001b[0mdf\u001b[0m\u001b[0;34m[\u001b[0m\u001b[0mdf\u001b[0m\u001b[0;34m.\u001b[0m\u001b[0m요일\u001b[0m \u001b[0;34m==\u001b[0m \u001b[0;34m'일'\u001b[0m\u001b[0;34m]\u001b[0m\u001b[0;34m.\u001b[0m\u001b[0mhead\u001b[0m\u001b[0;34m(\u001b[0m\u001b[0;34m)\u001b[0m\u001b[0;34m\u001b[0m\u001b[0m\n\u001b[0m",
            "\u001b[0;32m~/anaconda3_501/lib/python3.6/site-packages/pandas/core/ops.py\u001b[0m in \u001b[0;36mwrapper\u001b[0;34m(self, other, axis)\u001b[0m\n\u001b[1;32m    877\u001b[0m \u001b[0;34m\u001b[0m\u001b[0m\n\u001b[1;32m    878\u001b[0m             \u001b[0;32mwith\u001b[0m \u001b[0mnp\u001b[0m\u001b[0;34m.\u001b[0m\u001b[0merrstate\u001b[0m\u001b[0;34m(\u001b[0m\u001b[0mall\u001b[0m\u001b[0;34m=\u001b[0m\u001b[0;34m'ignore'\u001b[0m\u001b[0;34m)\u001b[0m\u001b[0;34m:\u001b[0m\u001b[0;34m\u001b[0m\u001b[0m\n\u001b[0;32m--> 879\u001b[0;31m                 \u001b[0mres\u001b[0m \u001b[0;34m=\u001b[0m \u001b[0mna_op\u001b[0m\u001b[0;34m(\u001b[0m\u001b[0mvalues\u001b[0m\u001b[0;34m,\u001b[0m \u001b[0mother\u001b[0m\u001b[0;34m)\u001b[0m\u001b[0;34m\u001b[0m\u001b[0m\n\u001b[0m\u001b[1;32m    880\u001b[0m             \u001b[0;32mif\u001b[0m \u001b[0mis_scalar\u001b[0m\u001b[0;34m(\u001b[0m\u001b[0mres\u001b[0m\u001b[0;34m)\u001b[0m\u001b[0;34m:\u001b[0m\u001b[0;34m\u001b[0m\u001b[0m\n\u001b[1;32m    881\u001b[0m                 raise TypeError('Could not compare {typ} type with Series'\n",
            "\u001b[0;32m~/anaconda3_501/lib/python3.6/site-packages/pandas/core/ops.py\u001b[0m in \u001b[0;36mna_op\u001b[0;34m(x, y)\u001b[0m\n\u001b[1;32m    816\u001b[0m                     \u001b[0mresult\u001b[0m \u001b[0;34m=\u001b[0m \u001b[0mgetattr\u001b[0m\u001b[0;34m(\u001b[0m\u001b[0mx\u001b[0m\u001b[0;34m,\u001b[0m \u001b[0mname\u001b[0m\u001b[0;34m)\u001b[0m\u001b[0;34m(\u001b[0m\u001b[0my\u001b[0m\u001b[0;34m)\u001b[0m\u001b[0;34m\u001b[0m\u001b[0m\n\u001b[1;32m    817\u001b[0m                 \u001b[0;32mif\u001b[0m \u001b[0mresult\u001b[0m \u001b[0;32mis\u001b[0m \u001b[0mNotImplemented\u001b[0m\u001b[0;34m:\u001b[0m\u001b[0;34m\u001b[0m\u001b[0m\n\u001b[0;32m--> 818\u001b[0;31m                     \u001b[0;32mraise\u001b[0m \u001b[0mTypeError\u001b[0m\u001b[0;34m(\u001b[0m\u001b[0;34m\"invalid type comparison\"\u001b[0m\u001b[0;34m)\u001b[0m\u001b[0;34m\u001b[0m\u001b[0m\n\u001b[0m\u001b[1;32m    819\u001b[0m             \u001b[0;32mexcept\u001b[0m \u001b[0mAttributeError\u001b[0m\u001b[0;34m:\u001b[0m\u001b[0;34m\u001b[0m\u001b[0m\n\u001b[1;32m    820\u001b[0m                 \u001b[0mresult\u001b[0m \u001b[0;34m=\u001b[0m \u001b[0mop\u001b[0m\u001b[0;34m(\u001b[0m\u001b[0mx\u001b[0m\u001b[0;34m,\u001b[0m \u001b[0my\u001b[0m\u001b[0;34m)\u001b[0m\u001b[0;34m\u001b[0m\u001b[0m\n",
            "\u001b[0;31mTypeError\u001b[0m: invalid type comparison"
          ]
        }
      ]
    },
    {
      "metadata": {
        "trusted": true
      },
      "cell_type": "code",
      "source": "df[df[''] == '일'].head()",
      "execution_count": 38,
      "outputs": [
        {
          "output_type": "error",
          "ename": "TypeError",
          "evalue": "invalid type comparison",
          "traceback": [
            "\u001b[0;31m---------------------------------------------------------------------------\u001b[0m",
            "\u001b[0;31mTypeError\u001b[0m                                 Traceback (most recent call last)",
            "\u001b[0;32m<ipython-input-38-afb8b5efdf02>\u001b[0m in \u001b[0;36m<module>\u001b[0;34m\u001b[0m\n\u001b[0;32m----> 1\u001b[0;31m \u001b[0mdf\u001b[0m\u001b[0;34m[\u001b[0m\u001b[0mdf\u001b[0m\u001b[0;34m[\u001b[0m\u001b[0;34m'요일'\u001b[0m\u001b[0;34m]\u001b[0m \u001b[0;34m==\u001b[0m \u001b[0;34m'일'\u001b[0m\u001b[0;34m]\u001b[0m\u001b[0;34m.\u001b[0m\u001b[0mhead\u001b[0m\u001b[0;34m(\u001b[0m\u001b[0;34m)\u001b[0m\u001b[0;34m\u001b[0m\u001b[0m\n\u001b[0m",
            "\u001b[0;32m~/anaconda3_501/lib/python3.6/site-packages/pandas/core/ops.py\u001b[0m in \u001b[0;36mwrapper\u001b[0;34m(self, other, axis)\u001b[0m\n\u001b[1;32m    877\u001b[0m \u001b[0;34m\u001b[0m\u001b[0m\n\u001b[1;32m    878\u001b[0m             \u001b[0;32mwith\u001b[0m \u001b[0mnp\u001b[0m\u001b[0;34m.\u001b[0m\u001b[0merrstate\u001b[0m\u001b[0;34m(\u001b[0m\u001b[0mall\u001b[0m\u001b[0;34m=\u001b[0m\u001b[0;34m'ignore'\u001b[0m\u001b[0;34m)\u001b[0m\u001b[0;34m:\u001b[0m\u001b[0;34m\u001b[0m\u001b[0m\n\u001b[0;32m--> 879\u001b[0;31m                 \u001b[0mres\u001b[0m \u001b[0;34m=\u001b[0m \u001b[0mna_op\u001b[0m\u001b[0;34m(\u001b[0m\u001b[0mvalues\u001b[0m\u001b[0;34m,\u001b[0m \u001b[0mother\u001b[0m\u001b[0;34m)\u001b[0m\u001b[0;34m\u001b[0m\u001b[0m\n\u001b[0m\u001b[1;32m    880\u001b[0m             \u001b[0;32mif\u001b[0m \u001b[0mis_scalar\u001b[0m\u001b[0;34m(\u001b[0m\u001b[0mres\u001b[0m\u001b[0;34m)\u001b[0m\u001b[0;34m:\u001b[0m\u001b[0;34m\u001b[0m\u001b[0m\n\u001b[1;32m    881\u001b[0m                 raise TypeError('Could not compare {typ} type with Series'\n",
            "\u001b[0;32m~/anaconda3_501/lib/python3.6/site-packages/pandas/core/ops.py\u001b[0m in \u001b[0;36mna_op\u001b[0;34m(x, y)\u001b[0m\n\u001b[1;32m    816\u001b[0m                     \u001b[0mresult\u001b[0m \u001b[0;34m=\u001b[0m \u001b[0mgetattr\u001b[0m\u001b[0;34m(\u001b[0m\u001b[0mx\u001b[0m\u001b[0;34m,\u001b[0m \u001b[0mname\u001b[0m\u001b[0;34m)\u001b[0m\u001b[0;34m(\u001b[0m\u001b[0my\u001b[0m\u001b[0;34m)\u001b[0m\u001b[0;34m\u001b[0m\u001b[0m\n\u001b[1;32m    817\u001b[0m                 \u001b[0;32mif\u001b[0m \u001b[0mresult\u001b[0m \u001b[0;32mis\u001b[0m \u001b[0mNotImplemented\u001b[0m\u001b[0;34m:\u001b[0m\u001b[0;34m\u001b[0m\u001b[0m\n\u001b[0;32m--> 818\u001b[0;31m                     \u001b[0;32mraise\u001b[0m \u001b[0mTypeError\u001b[0m\u001b[0;34m(\u001b[0m\u001b[0;34m\"invalid type comparison\"\u001b[0m\u001b[0;34m)\u001b[0m\u001b[0;34m\u001b[0m\u001b[0m\n\u001b[0m\u001b[1;32m    819\u001b[0m             \u001b[0;32mexcept\u001b[0m \u001b[0mAttributeError\u001b[0m\u001b[0;34m:\u001b[0m\u001b[0;34m\u001b[0m\u001b[0m\n\u001b[1;32m    820\u001b[0m                 \u001b[0mresult\u001b[0m \u001b[0;34m=\u001b[0m \u001b[0mop\u001b[0m\u001b[0;34m(\u001b[0m\u001b[0mx\u001b[0m\u001b[0;34m,\u001b[0m \u001b[0my\u001b[0m\u001b[0;34m)\u001b[0m\u001b[0;34m\u001b[0m\u001b[0m\n",
            "\u001b[0;31mTypeError\u001b[0m: invalid type comparison"
          ]
        }
      ]
    },
    {
      "metadata": {
        "trusted": true
      },
      "cell_type": "code",
      "source": "### 요일별로 해보자\nfor wday in hangul_weekday:\n  print('\\n## 요일:', wday)\n  # 특정 요일별\n  df_per_wday = df[ (df.요일 == wday) ]\n  print_info_column(df_per_wday.급기풍량)\n  print_info_column(df_per_wday.환수유량)\n\nprint_info_column(df_per_wday.환기온도)",
      "execution_count": 43,
      "outputs": [
        {
          "output_type": "error",
          "ename": "IndentationError",
          "evalue": "unindent does not match any outer indentation level (<tokenize>, line 4)",
          "traceback": [
            "\u001b[0;36m  File \u001b[0;32m\"<tokenize>\"\u001b[0;36m, line \u001b[0;32m4\u001b[0m\n\u001b[0;31m    print('\\n## 요일:', wday)\u001b[0m\n\u001b[0m    ^\u001b[0m\n\u001b[0;31mIndentationError\u001b[0m\u001b[0;31m:\u001b[0m unindent does not match any outer indentation level\n"
          ]
        }
      ]
    },
    {
      "metadata": {
        "trusted": true
      },
      "cell_type": "code",
      "source": "import matplotlib.pyplot as plt\n## 요일별 라인을 그리기 위해.\ndef draw_lines(xypairs, title):\n  fig, ax = plt.subplots()\n  \n  for X, Y, label in xypairs:\n    ax.plot(X, Y, label=label)\n  ax.set_xlabel('X')\n  ax.set_ylabel('Y')\n  ax.set_title(title)\n  plt.legend()\n  plt.show()\n  \n\n### 요일별로 라인 차트 그려보자\n\n\nfig, ax = plt.subplots()\nfor i, wday in enumerate(hangul_weekday):\n  df_per_wday = df[ (df.요일 == wday) & (df.collect_date >= '2017-12-01') ]\n  ax.plot(df_per_wday.급기풍량.values, label=i)\n  \nplt.legend()\nplt.show()\n",
      "execution_count": null,
      "outputs": []
    },
    {
      "metadata": {
        "trusted": true
      },
      "cell_type": "code",
      "source": "",
      "execution_count": null,
      "outputs": []
    },
    {
      "metadata": {
        "trusted": true
      },
      "cell_type": "code",
      "source": "",
      "execution_count": null,
      "outputs": []
    }
  ],
  "metadata": {
    "kernelspec": {
      "name": "python36",
      "display_name": "Python 3.6",
      "language": "python"
    },
    "language_info": {
      "mimetype": "text/x-python",
      "nbconvert_exporter": "python",
      "name": "python",
      "pygments_lexer": "ipython3",
      "version": "3.6.6",
      "file_extension": ".py",
      "codemirror_mode": {
        "version": 3,
        "name": "ipython"
      }
    }
  },
  "nbformat": 4,
  "nbformat_minor": 2
}