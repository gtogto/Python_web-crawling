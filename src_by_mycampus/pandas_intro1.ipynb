{
  "cells": [
    {
      "metadata": {
        "trusted": true
      },
      "cell_type": "code",
      "source": "import numpy as np  ## 백터, 행렬 데이터 전문 모듈 numpy\nimport pandas as pd  ## 고수준 데이터 모델 (DataFrame) 모듈 pandas\nimport matplotlib.pyplot as plt  ## 차트 그리기 모듈 matplotlib\ndf = pd.read_csv('class1.csv', encoding='utf-8')\n\nprint('칼럼이름들', list(df.columns) ) \n\nprint(df)\n",
      "execution_count": 16,
      "outputs": [
        {
          "output_type": "stream",
          "text": "칼럼이름들 ['번호', '이름', '국어', '영어', '수학', '과학']\n   번호   이름  국어  영어  수학  과학\n0   1   한돌  67  87  90  98\n1   2   김신  45  45  56  98\n2   3  이영호  95  59  96  88\n3   4  박호일  65  94  89  98\n4   5  조영구  45  65  78  98\n5   6  장호일  78  76  98  89\n",
          "name": "stdout"
        }
      ]
    },
    {
      "metadata": {
        "trusted": true
      },
      "cell_type": "code",
      "source": "df",
      "execution_count": 18,
      "outputs": [
        {
          "output_type": "execute_result",
          "execution_count": 18,
          "data": {
            "text/html": "<div>\n<style scoped>\n    .dataframe tbody tr th:only-of-type {\n        vertical-align: middle;\n    }\n\n    .dataframe tbody tr th {\n        vertical-align: top;\n    }\n\n    .dataframe thead th {\n        text-align: right;\n    }\n</style>\n<table border=\"1\" class=\"dataframe\">\n  <thead>\n    <tr style=\"text-align: right;\">\n      <th></th>\n      <th>번호</th>\n      <th>이름</th>\n      <th>국어</th>\n      <th>영어</th>\n      <th>수학</th>\n      <th>과학</th>\n    </tr>\n  </thead>\n  <tbody>\n    <tr>\n      <th>0</th>\n      <td>1</td>\n      <td>한돌</td>\n      <td>67</td>\n      <td>87</td>\n      <td>90</td>\n      <td>98</td>\n    </tr>\n    <tr>\n      <th>1</th>\n      <td>2</td>\n      <td>김신</td>\n      <td>45</td>\n      <td>45</td>\n      <td>56</td>\n      <td>98</td>\n    </tr>\n    <tr>\n      <th>2</th>\n      <td>3</td>\n      <td>이영호</td>\n      <td>95</td>\n      <td>59</td>\n      <td>96</td>\n      <td>88</td>\n    </tr>\n    <tr>\n      <th>3</th>\n      <td>4</td>\n      <td>박호일</td>\n      <td>65</td>\n      <td>94</td>\n      <td>89</td>\n      <td>98</td>\n    </tr>\n    <tr>\n      <th>4</th>\n      <td>5</td>\n      <td>조영구</td>\n      <td>45</td>\n      <td>65</td>\n      <td>78</td>\n      <td>98</td>\n    </tr>\n    <tr>\n      <th>5</th>\n      <td>6</td>\n      <td>장호일</td>\n      <td>78</td>\n      <td>76</td>\n      <td>98</td>\n      <td>89</td>\n    </tr>\n  </tbody>\n</table>\n</div>",
            "text/plain": "   번호   이름  국어  영어  수학  과학\n0   1   한돌  67  87  90  98\n1   2   김신  45  45  56  98\n2   3  이영호  95  59  96  88\n3   4  박호일  65  94  89  98\n4   5  조영구  45  65  78  98\n5   6  장호일  78  76  98  89"
          },
          "metadata": {}
        }
      ]
    },
    {
      "metadata": {
        "trusted": true
      },
      "cell_type": "code",
      "source": "df.index",
      "execution_count": 19,
      "outputs": [
        {
          "output_type": "execute_result",
          "execution_count": 19,
          "data": {
            "text/plain": "RangeIndex(start=0, stop=6, step=1)"
          },
          "metadata": {}
        }
      ]
    },
    {
      "metadata": {
        "trusted": true
      },
      "cell_type": "code",
      "source": "list(df.index)",
      "execution_count": 20,
      "outputs": [
        {
          "output_type": "execute_result",
          "execution_count": 20,
          "data": {
            "text/plain": "[0, 1, 2, 3, 4, 5]"
          },
          "metadata": {}
        }
      ]
    },
    {
      "metadata": {
        "trusted": true
      },
      "cell_type": "code",
      "source": "df.values # numpy array  형태",
      "execution_count": 21,
      "outputs": [
        {
          "output_type": "execute_result",
          "execution_count": 21,
          "data": {
            "text/plain": "array([[1, '한돌', 67, 87, 90, 98],\n       [2, '김신', 45, 45, 56, 98],\n       [3, '이영호', 95, 59, 96, 88],\n       [4, '박호일', 65, 94, 89, 98],\n       [5, '조영구', 45, 65, 78, 98],\n       [6, '장호일', 78, 76, 98, 89]], dtype=object)"
          },
          "metadata": {}
        }
      ]
    },
    {
      "metadata": {
        "trusted": true
      },
      "cell_type": "code",
      "source": "type(df.values)",
      "execution_count": 22,
      "outputs": [
        {
          "output_type": "execute_result",
          "execution_count": 22,
          "data": {
            "text/plain": "numpy.ndarray"
          },
          "metadata": {}
        }
      ]
    },
    {
      "metadata": {
        "trusted": true
      },
      "cell_type": "code",
      "source": "np.sum(df.values[:, 2:], axis=0)",
      "execution_count": 28,
      "outputs": [
        {
          "output_type": "execute_result",
          "execution_count": 28,
          "data": {
            "text/plain": "array([395, 426, 507, 569], dtype=object)"
          },
          "metadata": {}
        }
      ]
    },
    {
      "metadata": {
        "trusted": true
      },
      "cell_type": "code",
      "source": "np.sum(df.values[:, 2:], axis=1)",
      "execution_count": 30,
      "outputs": [
        {
          "output_type": "execute_result",
          "execution_count": 30,
          "data": {
            "text/plain": "array([342, 244, 338, 346, 286, 341], dtype=object)"
          },
          "metadata": {}
        }
      ]
    },
    {
      "metadata": {
        "trusted": true
      },
      "cell_type": "code",
      "source": "df.values[0, 2:] # 한돌의 과목별 점수",
      "execution_count": 31,
      "outputs": [
        {
          "output_type": "execute_result",
          "execution_count": 31,
          "data": {
            "text/plain": "array([67, 87, 90, 98], dtype=object)"
          },
          "metadata": {}
        }
      ]
    },
    {
      "metadata": {
        "trusted": true
      },
      "cell_type": "code",
      "source": "total = df.values[0, 2:].sum() # 한돌의 평균 점수\nprint('%s: %d, %.1f' % (df.values[0, 1], total, total/4))",
      "execution_count": 32,
      "outputs": [
        {
          "output_type": "stream",
          "text": "한돌: 342, 85.5\n",
          "name": "stdout"
        }
      ]
    },
    {
      "metadata": {
        "trusted": true
      },
      "cell_type": "code",
      "source": "np.sum(df.values[:, 2:], axis = 1)",
      "execution_count": 33,
      "outputs": [
        {
          "output_type": "execute_result",
          "execution_count": 33,
          "data": {
            "text/plain": "array([342, 244, 338, 346, 286, 341], dtype=object)"
          },
          "metadata": {}
        }
      ]
    },
    {
      "metadata": {
        "trusted": true
      },
      "cell_type": "code",
      "source": "np.sum(df.values[:, 2:], axis = 0)",
      "execution_count": 34,
      "outputs": [
        {
          "output_type": "execute_result",
          "execution_count": 34,
          "data": {
            "text/plain": "array([395, 426, 507, 569], dtype=object)"
          },
          "metadata": {}
        }
      ]
    },
    {
      "metadata": {
        "trusted": true
      },
      "cell_type": "code",
      "source": "print(list(df.index))",
      "execution_count": 35,
      "outputs": [
        {
          "output_type": "stream",
          "text": "[0, 1, 2, 3, 4, 5]\n",
          "name": "stdout"
        }
      ]
    },
    {
      "metadata": {
        "trusted": true
      },
      "cell_type": "code",
      "source": "df['국어']\nprint(type(df['국어']))\nprint(type(df.국어))\n",
      "execution_count": 36,
      "outputs": [
        {
          "output_type": "stream",
          "text": "<class 'pandas.core.series.Series'>\n<class 'pandas.core.series.Series'>\n",
          "name": "stdout"
        }
      ]
    },
    {
      "metadata": {
        "trusted": true
      },
      "cell_type": "code",
      "source": "df.국어.sum()",
      "execution_count": 10,
      "outputs": [
        {
          "output_type": "execute_result",
          "execution_count": 10,
          "data": {
            "text/plain": "395"
          },
          "metadata": {}
        }
      ]
    },
    {
      "metadata": {
        "trusted": true
      },
      "cell_type": "code",
      "source": "kuk = df[['국어']]\nprint(type(kuk))\n",
      "execution_count": 11,
      "outputs": [
        {
          "output_type": "stream",
          "text": "<class 'pandas.core.frame.DataFrame'>\n",
          "name": "stdout"
        }
      ]
    },
    {
      "metadata": {
        "trusted": true
      },
      "cell_type": "code",
      "source": "df[0:5]\ndf['국어']",
      "execution_count": 12,
      "outputs": [
        {
          "output_type": "execute_result",
          "execution_count": 12,
          "data": {
            "text/plain": "0    67\n1    45\n2    95\n3    65\n4    45\n5    78\nName: 국어, dtype: int64"
          },
          "metadata": {}
        }
      ]
    },
    {
      "metadata": {
        "trusted": true
      },
      "cell_type": "code",
      "source": "print(type(df.loc[5]))\nprint(df.loc[5])",
      "execution_count": 15,
      "outputs": [
        {
          "output_type": "stream",
          "text": "<class 'pandas.core.series.Series'>\n번호      6\n이름    장호일\n국어     78\n영어     76\n수학     98\n과학     89\nName: 5, dtype: object\n",
          "name": "stdout"
        }
      ]
    },
    {
      "metadata": {
        "trusted": true
      },
      "cell_type": "code",
      "source": "print(type(df.iloc[5]))\nprint(df.iloc[5])",
      "execution_count": 14,
      "outputs": [
        {
          "output_type": "stream",
          "text": "<class 'pandas.core.series.Series'>\n번호      6\n이름    장호일\n국어     78\n영어     76\n수학     98\n과학     89\nName: 5, dtype: object\n",
          "name": "stdout"
        }
      ]
    },
    {
      "metadata": {},
      "cell_type": "markdown",
      "source": "### 조건으로 필터링하기"
    },
    {
      "metadata": {
        "trusted": true
      },
      "cell_type": "code",
      "source": "df[df.국어 >= 70]",
      "execution_count": null,
      "outputs": []
    },
    {
      "metadata": {
        "trusted": true
      },
      "cell_type": "code",
      "source": "df[(df.국어 >= 70) | (df.영어 >= 70)]",
      "execution_count": null,
      "outputs": []
    },
    {
      "metadata": {
        "trusted": true
      },
      "cell_type": "code",
      "source": "df.query(\"국어 >= 70 & 영어 >= 70\")",
      "execution_count": null,
      "outputs": []
    },
    {
      "metadata": {
        "trusted": true
      },
      "cell_type": "code",
      "source": "df[['국어', '영어']]",
      "execution_count": null,
      "outputs": []
    },
    {
      "metadata": {
        "trusted": true
      },
      "cell_type": "code",
      "source": "subjects = ['국어', '영어', '수학', '과학']\n\ndf[subjects].sum(axis=0)\nprint(df[subjects].sum(axis=0))\nnum_st = df.국어.count()\nprint(df[subjects].sum(axis=0) / num_st)\nprint(df[subjects].max(axis=0))\n\n",
      "execution_count": null,
      "outputs": []
    },
    {
      "metadata": {
        "trusted": true
      },
      "cell_type": "code",
      "source": "df['총점'] = df[subjects].sum(axis=1)\ndf['평균']= df['총점'] / len(subjects)\ndf['최고점'] = df[subjects].max(axis=1)\n",
      "execution_count": null,
      "outputs": []
    },
    {
      "metadata": {
        "trusted": true
      },
      "cell_type": "code",
      "source": "#df[['수학']]\nprint(type(df.수학))\nprint(type(df['수학']))\nprint(type(df[['수학']]))",
      "execution_count": null,
      "outputs": []
    },
    {
      "metadata": {
        "trusted": true
      },
      "cell_type": "code",
      "source": "print('=== 성적순')\ndf2 = df.sort_values(['영어', '수학'], ascending=[False, False])\n\ndf2\n",
      "execution_count": null,
      "outputs": []
    },
    {
      "metadata": {
        "trusted": true
      },
      "cell_type": "code",
      "source": "    ",
      "execution_count": null,
      "outputs": []
    },
    {
      "metadata": {
        "trusted": true
      },
      "cell_type": "code",
      "source": "# 완전 새롭게 index reset, 정렬\ndf2.reset_index(inplace=True, drop=True) \ndf2",
      "execution_count": null,
      "outputs": []
    },
    {
      "metadata": {
        "trusted": true
      },
      "cell_type": "code",
      "source": "df2\ndf2.drop(['총점'], axis=1, inplace=True)\ndf2",
      "execution_count": null,
      "outputs": []
    },
    {
      "metadata": {
        "trusted": true
      },
      "cell_type": "code",
      "source": "df2[['이름', '평균']]",
      "execution_count": null,
      "outputs": []
    },
    {
      "metadata": {
        "trusted": true
      },
      "cell_type": "code",
      "source": "df2.to_csv('sorted_class1.csv', encoding='utf-8', index=False)",
      "execution_count": null,
      "outputs": []
    },
    {
      "metadata": {
        "trusted": true
      },
      "cell_type": "code",
      "source": "",
      "execution_count": null,
      "outputs": []
    },
    {
      "metadata": {
        "trusted": true
      },
      "cell_type": "code",
      "source": "",
      "execution_count": null,
      "outputs": []
    }
  ],
  "metadata": {
    "kernelspec": {
      "name": "python36",
      "display_name": "Python 3.6",
      "language": "python"
    },
    "language_info": {
      "mimetype": "text/x-python",
      "nbconvert_exporter": "python",
      "name": "python",
      "pygments_lexer": "ipython3",
      "version": "3.6.6",
      "file_extension": ".py",
      "codemirror_mode": {
        "version": 3,
        "name": "ipython"
      }
    }
  },
  "nbformat": 4,
  "nbformat_minor": 2
}