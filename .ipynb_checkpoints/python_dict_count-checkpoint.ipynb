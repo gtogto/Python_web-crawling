{
  "cells": [
    {
      "metadata": {},
      "cell_type": "markdown",
      "source": "## tuple"
    },
    {
      "metadata": {
        "trusted": true
      },
      "cell_type": "code",
      "source": "# python 에서는 여러값을 리턴할 수 있다.\ndef sum_mul(x,y):\n    return x+y, x*y\n\na = sum_mul(10,7)\nprint(a)\nprint('a[0]', a[0])\nprint('a[1]', a[1])",
      "execution_count": 2,
      "outputs": [
        {
          "output_type": "stream",
          "text": "(17, 70)\na[0] 17\na[1] 70\n",
          "name": "stdout"
        }
      ]
    },
    {
      "metadata": {},
      "cell_type": "markdown",
      "source": "## unpacking\n"
    },
    {
      "metadata": {
        "trusted": true
      },
      "cell_type": "code",
      "source": "x, y = 1, 2 # now x is 1, y is 2\nx, y = y, x\nprint (x, y)",
      "execution_count": 3,
      "outputs": [
        {
          "output_type": "stream",
          "text": "2 1\n",
          "name": "stdout"
        }
      ]
    },
    {
      "metadata": {
        "trusted": true
      },
      "cell_type": "code",
      "source": "pos = (10, 20)\nx, y = pos\nprint('x=', x, 'y=', y)",
      "execution_count": 4,
      "outputs": [
        {
          "output_type": "stream",
          "text": "x= 10 y= 20\n",
          "name": "stdout"
        }
      ]
    },
    {
      "metadata": {
        "trusted": true
      },
      "cell_type": "code",
      "source": "pos = (10, 20,30)\nx, y, z = pos\nprint('x=', x, 'y=', y, 'z=', z)",
      "execution_count": 5,
      "outputs": [
        {
          "output_type": "stream",
          "text": "x= 10 y= 20 z= 30\n",
          "name": "stdout"
        }
      ]
    },
    {
      "metadata": {
        "trusted": true
      },
      "cell_type": "code",
      "source": "data = [100, 200, 300]\nx, y, z = data\nprint('x=', x, 'y=', y, 'z=', z)",
      "execution_count": 7,
      "outputs": [
        {
          "output_type": "stream",
          "text": "x= 100 y= 200 z= 300\n",
          "name": "stdout"
        }
      ]
    },
    {
      "metadata": {},
      "cell_type": "markdown",
      "source": "## dict, dictionary - key에 의한 index ( java의 Hash map)"
    },
    {
      "metadata": {
        "trusted": true
      },
      "cell_type": "code",
      "source": "grades = { \"Joel\" : 80, \"Tim\" : 95 } # dictionary literal\nprint(grades)\nprint(grades['Tim'])\ngrades['Joel'] = 100\nprint(grades)\nprint(grades['Taeree'])",
      "execution_count": 26,
      "outputs": [
        {
          "output_type": "stream",
          "text": "{'Joel': 80, 'Tim': 95}\n95\n{'Joel': 100, 'Tim': 95}\n",
          "name": "stdout"
        },
        {
          "output_type": "error",
          "ename": "KeyError",
          "evalue": "'Taeree'",
          "traceback": [
            "\u001b[0;31m---------------------------------------------------------------------------\u001b[0m",
            "\u001b[0;31mKeyError\u001b[0m                                  Traceback (most recent call last)",
            "\u001b[0;32m<ipython-input-26-2740fb48ec44>\u001b[0m in \u001b[0;36m<module>\u001b[0;34m\u001b[0m\n\u001b[1;32m      4\u001b[0m \u001b[0mgrades\u001b[0m\u001b[0;34m[\u001b[0m\u001b[0;34m'Joel'\u001b[0m\u001b[0;34m]\u001b[0m \u001b[0;34m=\u001b[0m \u001b[0;36m100\u001b[0m\u001b[0;34m\u001b[0m\u001b[0m\n\u001b[1;32m      5\u001b[0m \u001b[0mprint\u001b[0m\u001b[0;34m(\u001b[0m\u001b[0mgrades\u001b[0m\u001b[0;34m)\u001b[0m\u001b[0;34m\u001b[0m\u001b[0m\n\u001b[0;32m----> 6\u001b[0;31m \u001b[0mprint\u001b[0m\u001b[0;34m(\u001b[0m\u001b[0mgrades\u001b[0m\u001b[0;34m[\u001b[0m\u001b[0;34m'Taeree'\u001b[0m\u001b[0;34m]\u001b[0m\u001b[0;34m)\u001b[0m\u001b[0;34m\u001b[0m\u001b[0m\n\u001b[0m",
            "\u001b[0;31mKeyError\u001b[0m: 'Taeree'"
          ]
        }
      ]
    },
    {
      "metadata": {},
      "cell_type": "markdown",
      "source": "### dict 에서 존재하지 않는 key에 대한 default값 지정하기"
    },
    {
      "metadata": {
        "trusted": true
      },
      "cell_type": "code",
      "source": "print(grades.get('Taeree', 100)) # 없는 key값 -> Exception 발생\nlen(grades)",
      "execution_count": 27,
      "outputs": [
        {
          "output_type": "stream",
          "text": "100\n",
          "name": "stdout"
        },
        {
          "output_type": "execute_result",
          "execution_count": 27,
          "data": {
            "text/plain": "2"
          },
          "metadata": {}
        }
      ]
    },
    {
      "metadata": {
        "trusted": true
      },
      "cell_type": "code",
      "source": "print(grades.keys())\nprint(grades.values())\nprint(grades.items())",
      "execution_count": 28,
      "outputs": [
        {
          "output_type": "stream",
          "text": "dict_keys(['Joel', 'Tim'])\ndict_values([100, 95])\ndict_items([('Joel', 100), ('Tim', 95)])\n",
          "name": "stdout"
        }
      ]
    },
    {
      "metadata": {},
      "cell_type": "markdown",
      "source": "# Word Counter 구현 방법 4가지 !!"
    },
    {
      "metadata": {
        "trusted": true
      },
      "cell_type": "code",
      "source": "int() # int() --> 0",
      "execution_count": 9,
      "outputs": [
        {
          "output_type": "execute_result",
          "execution_count": 9,
          "data": {
            "text/plain": "0"
          },
          "metadata": {}
        }
      ]
    },
    {
      "metadata": {
        "trusted": true
      },
      "cell_type": "code",
      "source": "list() #",
      "execution_count": 10,
      "outputs": [
        {
          "output_type": "execute_result",
          "execution_count": 10,
          "data": {
            "text/plain": "[]"
          },
          "metadata": {}
        }
      ]
    },
    {
      "metadata": {
        "trusted": true
      },
      "cell_type": "code",
      "source": "dict()",
      "execution_count": 11,
      "outputs": [
        {
          "output_type": "execute_result",
          "execution_count": 11,
          "data": {
            "text/plain": "{}"
          },
          "metadata": {}
        }
      ]
    },
    {
      "metadata": {},
      "cell_type": "markdown",
      "source": "### 방법1 - python dict (if/else 이용)"
    },
    {
      "metadata": {
        "trusted": true
      },
      "cell_type": "code",
      "source": "document = ['aa', 'a', 'bbb', 'bbb', 'aa', 'c', 'aa']\n\ndef way1():\n  word_counts = {}\n\n  for word in document:\n    if word not in word_counts: # 처음 나타난 단어일 때\n      word_counts[word] = 1\n    else:\n      word_counts[word] += 1\n  for k, v in word_counts.items():\n    print(k, v)\n\nway1()\n",
      "execution_count": 12,
      "outputs": [
        {
          "output_type": "stream",
          "text": "aa 3\na 1\nbbb 2\nc 1\n",
          "name": "stdout"
        }
      ]
    },
    {
      "metadata": {},
      "cell_type": "markdown",
      "source": "### 방법2 - python dict (try/except 이용)"
    },
    {
      "metadata": {
        "trusted": true
      },
      "cell_type": "code",
      "source": "def way2():\n  word_counts = {}\n  for word in document:\n    try:\n      word_counts[word] += 1\n    except KeyError:\n      word_counts[word] = 1\n  for k,v in word_counts.items():\n    print(k, v)\n\nway2()",
      "execution_count": 13,
      "outputs": [
        {
          "output_type": "stream",
          "text": "aa 3\na 1\nbbb 2\nc 1\n",
          "name": "stdout"
        }
      ]
    },
    {
      "metadata": {},
      "cell_type": "markdown",
      "source": "### 방법3 - python dict (get() 이용)"
    },
    {
      "metadata": {
        "trusted": true
      },
      "cell_type": "code",
      "source": "def way3():\n  word_counts = {}\n  for word in document:\n    word_counts[word] = word_counts.get(word, 0) + 1\n  for k,v in word_counts.items():\n    print(k, v)\n\nway3()",
      "execution_count": 14,
      "outputs": [
        {
          "output_type": "stream",
          "text": "aa 3\na 1\nbbb 2\nc 1\n",
          "name": "stdout"
        }
      ]
    },
    {
      "metadata": {},
      "cell_type": "markdown",
      "source": "### 방법4 -  defaultdict 이용"
    },
    {
      "metadata": {
        "trusted": true
      },
      "cell_type": "code",
      "source": "def way4():\n  from collections import defaultdict\n  word_counts = defaultdict(int)  # int() --> 0\n  for word in document:\n    word_counts[word] += 1\n  for k,v in word_counts.items():\n    print(k, v)\n\nway4()",
      "execution_count": 15,
      "outputs": [
        {
          "output_type": "stream",
          "text": "aa 3\na 1\nbbb 2\nc 1\n",
          "name": "stdout"
        }
      ]
    },
    {
      "metadata": {},
      "cell_type": "markdown",
      "source": "### 방법4 -  defaultdict 이용하여 count가 아닌 목록 만들기"
    },
    {
      "metadata": {
        "trusted": true
      },
      "cell_type": "code",
      "source": "def way_list():\n  from collections import defaultdict\n  word_list = defaultdict(list)  # list() --> [] \n  for i, word in enumerate(document):\n    word_list[word].append(i)\n    \n  for k,v in word_list.items():\n    print(k, v)\n\nway_list()",
      "execution_count": 16,
      "outputs": [
        {
          "output_type": "stream",
          "text": "aa [0, 4, 6]\na [1]\nbbb [2, 3]\nc [5]\n",
          "name": "stdout"
        }
      ]
    },
    {
      "metadata": {
        "trusted": true
      },
      "cell_type": "code",
      "source": "",
      "execution_count": null,
      "outputs": []
    },
    {
      "metadata": {
        "trusted": true
      },
      "cell_type": "code",
      "source": "def way5():\n  from collections import Counter\n  word_counts = Counter(document)  \n  for k,v in word_counts.items():\n    print(k, v)\n\nway5()",
      "execution_count": 17,
      "outputs": [
        {
          "output_type": "stream",
          "text": "aa 3\na 1\nbbb 2\nc 1\n",
          "name": "stdout"
        }
      ]
    },
    {
      "metadata": {},
      "cell_type": "markdown",
      "source": "## class 정의 예시. 기본 클래스 dict를 상속 "
    },
    {
      "metadata": {
        "trusted": true
      },
      "cell_type": "code",
      "source": "class mydict(dict):\n    def __init__(self):\n        pass\n    \n    def add(self, word):\n        self[word] = self.get(word, 0) + 1\n        \n    def prn(self):\n        for k,v in self.items():\n            print(k,v)\n    def prn2(self):\n        print('=== prn2 (키값의 순서)')\n        for k in sorted(self.keys()):\n            print(k, self[k])\n    def prn3(self):\n        print('=== prn3 (갯수로 소팅)')\n        print(list(self.items()))\n        for k, v in sorted(self.items(), key=lambda x:x[1], reverse=True):\n            print(k, v)        \n\nmycount = mydict()\nmycount.add('bb')\nmycount.add('a')\nmycount.add('aaa')\nmycount.add('bb')\nmycount.add('aaa')\nmycount.add('aaa')\nmycount.prn2()\nmycount.prn3()",
      "execution_count": 22,
      "outputs": [
        {
          "output_type": "stream",
          "text": "=== prn2 (키값의 순서)\na 1\naaa 3\nbb 2\n=== prn3 (갯수로 소팅)\n[('bb', 2), ('a', 1), ('aaa', 3)]\naaa 3\nbb 2\na 1\n",
          "name": "stdout"
        }
      ]
    },
    {
      "metadata": {},
      "cell_type": "markdown",
      "source": "### lambda - inline 함수 정의"
    },
    {
      "metadata": {
        "trusted": true
      },
      "cell_type": "code",
      "source": "a = [1,2,3,5,10]\n\ndef square(x):\n  return x*x\n\nprint(square(9))\n\nb1 =  map(square, a)\nb1 = list(b1)\nprint('b1', b1)\n\n# inline, anonymous function ===> lambda\nb2 = map(lambda x: x*x, a)\nb2 = list(b2)\nprint('b2', b2)\n\nb3 = filter(lambda y: y > 20, b2)\nb3 = list(b3)\nprint('b3', b3)\n\n",
      "execution_count": 19,
      "outputs": [
        {
          "output_type": "stream",
          "text": "81\nb1 [1, 4, 9, 25, 100]\nb2 [1, 4, 9, 25, 100]\nb3 [25, 100]\n",
          "name": "stdout"
        }
      ]
    },
    {
      "metadata": {
        "trusted": false
      },
      "cell_type": "code",
      "source": "",
      "execution_count": null,
      "outputs": []
    }
  ],
  "metadata": {
    "kernelspec": {
      "name": "python36",
      "display_name": "Python 3.6",
      "language": "python"
    },
    "language_info": {
      "mimetype": "text/x-python",
      "nbconvert_exporter": "python",
      "name": "python",
      "pygments_lexer": "ipython3",
      "version": "3.6.6",
      "file_extension": ".py",
      "codemirror_mode": {
        "version": 3,
        "name": "ipython"
      }
    }
  },
  "nbformat": 4,
  "nbformat_minor": 1
}