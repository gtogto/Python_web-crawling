{
  "cells": [
    {
      "metadata": {
        "trusted": true
      },
      "cell_type": "code",
      "source": "import time # 초단위\nimport datetime #년월일\n",
      "execution_count": 1,
      "outputs": []
    },
    {
      "metadata": {
        "trusted": true
      },
      "cell_type": "code",
      "source": "print(datetime.date.today())\nprint(datetime.date.today().isoformat())\ntoday = datetime.date.today()\ntoday.strftime('%Y-%m-%d %H:%M:%S') #년-월-일 시:분:초",
      "execution_count": 2,
      "outputs": [
        {
          "output_type": "stream",
          "text": "2019-01-28\n2019-01-28\n",
          "name": "stdout"
        },
        {
          "output_type": "execute_result",
          "execution_count": 2,
          "data": {
            "text/plain": "'2019-01-28 00:00:00'"
          },
          "metadata": {}
        }
      ]
    },
    {
      "metadata": {
        "trusted": true
      },
      "cell_type": "code",
      "source": "print(datetime.datetime.now()) # 현재시간\nprint(datetime.datetime.now().isoformat())\nnow = datetime.datetime.now()\nnow.strftime('%Y-%m-%d %H:%M:%S')#today = datetime.date.fromtimestamp(time.time())\n",
      "execution_count": 4,
      "outputs": [
        {
          "output_type": "stream",
          "text": "2019-01-28 10:51:51.559593\n2019-01-28T10:51:51.559726\n",
          "name": "stdout"
        },
        {
          "output_type": "execute_result",
          "execution_count": 4,
          "data": {
            "text/plain": "'2019-01-28 10:51:51'"
          },
          "metadata": {}
        }
      ]
    },
    {
      "metadata": {
        "trusted": false
      },
      "cell_type": "code",
      "source": "#today = datetime.date.fromtimestamp(time.time())",
      "execution_count": 4,
      "outputs": []
    },
    {
      "metadata": {
        "trusted": true
      },
      "cell_type": "code",
      "source": "oneday = datetime.timedelta(days=1) # 시간값에 단위를 주고 증가 \nstartday = datetime.date(2019, 1, 1)\ntoday = datetime.date.today()\nwhile startday < today:\n    print(startday, '|', startday.isoformat())\n    startday += oneday\n\n",
      "execution_count": 6,
      "outputs": [
        {
          "output_type": "stream",
          "text": "2019-01-01 | 2019-01-01\n2019-01-02 | 2019-01-02\n2019-01-03 | 2019-01-03\n2019-01-04 | 2019-01-04\n2019-01-05 | 2019-01-05\n2019-01-06 | 2019-01-06\n2019-01-07 | 2019-01-07\n2019-01-08 | 2019-01-08\n2019-01-09 | 2019-01-09\n2019-01-10 | 2019-01-10\n2019-01-11 | 2019-01-11\n2019-01-12 | 2019-01-12\n2019-01-13 | 2019-01-13\n2019-01-14 | 2019-01-14\n2019-01-15 | 2019-01-15\n2019-01-16 | 2019-01-16\n2019-01-17 | 2019-01-17\n2019-01-18 | 2019-01-18\n2019-01-19 | 2019-01-19\n2019-01-20 | 2019-01-20\n2019-01-21 | 2019-01-21\n2019-01-22 | 2019-01-22\n2019-01-23 | 2019-01-23\n2019-01-24 | 2019-01-24\n2019-01-25 | 2019-01-25\n2019-01-26 | 2019-01-26\n2019-01-27 | 2019-01-27\n",
          "name": "stdout"
        }
      ]
    },
    {
      "metadata": {
        "trusted": true
      },
      "cell_type": "code",
      "source": "onehour = datetime.timedelta(hours=1) # 특정 시간에 시간을 더함\nstartday = datetime.datetime(2019, 1, 27, hour=11)\ntoday = datetime.datetime.today()\n\nwhile startday < today:\n    print(startday, '|', startday.strftime('%Y-%m-%d %H:%M:%S'))\n    startday += onehour \n",
      "execution_count": 11,
      "outputs": [
        {
          "output_type": "stream",
          "text": "2019-01-27 11:00:00 | 2019-01-27 11:00:00\n2019-01-27 12:00:00 | 2019-01-27 12:00:00\n2019-01-27 13:00:00 | 2019-01-27 13:00:00\n2019-01-27 14:00:00 | 2019-01-27 14:00:00\n2019-01-27 15:00:00 | 2019-01-27 15:00:00\n2019-01-27 16:00:00 | 2019-01-27 16:00:00\n2019-01-27 17:00:00 | 2019-01-27 17:00:00\n2019-01-27 18:00:00 | 2019-01-27 18:00:00\n2019-01-27 19:00:00 | 2019-01-27 19:00:00\n2019-01-27 20:00:00 | 2019-01-27 20:00:00\n2019-01-27 21:00:00 | 2019-01-27 21:00:00\n2019-01-27 22:00:00 | 2019-01-27 22:00:00\n2019-01-27 23:00:00 | 2019-01-27 23:00:00\n2019-01-28 00:00:00 | 2019-01-28 00:00:00\n2019-01-28 01:00:00 | 2019-01-28 01:00:00\n2019-01-28 02:00:00 | 2019-01-28 02:00:00\n2019-01-28 03:00:00 | 2019-01-28 03:00:00\n2019-01-28 04:00:00 | 2019-01-28 04:00:00\n2019-01-28 05:00:00 | 2019-01-28 05:00:00\n2019-01-28 06:00:00 | 2019-01-28 06:00:00\n2019-01-28 07:00:00 | 2019-01-28 07:00:00\n2019-01-28 08:00:00 | 2019-01-28 08:00:00\n2019-01-28 09:00:00 | 2019-01-28 09:00:00\n2019-01-28 10:00:00 | 2019-01-28 10:00:00\n",
          "name": "stdout"
        }
      ]
    },
    {
      "metadata": {},
      "cell_type": "markdown",
      "source": "## 문자열에서 date로"
    },
    {
      "metadata": {
        "trusted": true
      },
      "cell_type": "code",
      "source": "datestr = '2018-02-07 02:00:00'\ndval = datetime.datetime.strptime(datestr, \"%Y-%m-%d %H:%M:%S\") # 문자열에 시간을 파싱함\nprint(dval)",
      "execution_count": 14,
      "outputs": [
        {
          "output_type": "stream",
          "text": "2018-02-07 02:00:00\n",
          "name": "stdout"
        }
      ]
    },
    {
      "metadata": {
        "trusted": true
      },
      "cell_type": "code",
      "source": "print(dval.strftime('%Y/%m/%d %H:%M:%S'))",
      "execution_count": 15,
      "outputs": [
        {
          "output_type": "stream",
          "text": "2018/02/07 02:00:00\n",
          "name": "stdout"
        }
      ]
    },
    {
      "metadata": {
        "trusted": true
      },
      "cell_type": "code",
      "source": "print(dval)",
      "execution_count": 16,
      "outputs": [
        {
          "output_type": "stream",
          "text": "2018-02-07 02:00:00\n",
          "name": "stdout"
        }
      ]
    },
    {
      "metadata": {
        "trusted": true
      },
      "cell_type": "code",
      "source": "print(dval.weekday(), dval.month, dval.day)",
      "execution_count": 19,
      "outputs": [
        {
          "output_type": "stream",
          "text": "2 2 7\n",
          "name": "stdout"
        }
      ]
    },
    {
      "metadata": {
        "trusted": true
      },
      "cell_type": "code",
      "source": "today = datetime.datetime.today()\nprint(today.weekday())",
      "execution_count": 20,
      "outputs": [
        {
          "output_type": "stream",
          "text": "0\n",
          "name": "stdout"
        }
      ]
    },
    {
      "metadata": {
        "trusted": true
      },
      "cell_type": "code",
      "source": "tomorrow = today + datetime.timedelta(days=1)",
      "execution_count": 22,
      "outputs": []
    },
    {
      "metadata": {
        "trusted": true
      },
      "cell_type": "code",
      "source": "print(tomorrow.weekday())",
      "execution_count": null,
      "outputs": []
    }
  ],
  "metadata": {
    "kernelspec": {
      "name": "python36",
      "display_name": "Python 3.6",
      "language": "python"
    },
    "language_info": {
      "mimetype": "text/x-python",
      "nbconvert_exporter": "python",
      "name": "python",
      "pygments_lexer": "ipython3",
      "version": "3.6.6",
      "file_extension": ".py",
      "codemirror_mode": {
        "version": 3,
        "name": "ipython"
      }
    }
  },
  "nbformat": 4,
  "nbformat_minor": 2
}