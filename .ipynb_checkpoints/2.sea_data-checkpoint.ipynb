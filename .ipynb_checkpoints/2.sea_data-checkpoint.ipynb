{
  "cells": [
    {
      "metadata": {
        "trusted": true
      },
      "cell_type": "code",
      "source": "import pandas as pd\nimport numpy as np\nimport datetime\n\nfldname = \"년도,월,일,시간,유속,유향,유향deg,수온,염분,유의파고,유의파주기,최대파고,최대파주기,풍속,풍향,풍향deg,기온,기압,시정\"\n\nimport pandas as pd\ndf = pd.read_csv('Haewoondae_2016_8.csv',\n                 names=fldname.split(','),\n                 header=0,\n                 na_values=['-', 'null'],\n                 dtype={'시간': object, '유향': str, '풍향': object, '시정': object,\n                        }\n                 )",
      "execution_count": 16,
      "outputs": []
    },
    {
      "metadata": {
        "trusted": true
      },
      "cell_type": "code",
      "source": "  \nfor r in df.itertuples():\n    print(r.유속, r.수온)\n    break\n    ",
      "execution_count": 17,
      "outputs": [
        {
          "output_type": "stream",
          "text": "10.1 20.35\n",
          "name": "stdout"
        }
      ]
    },
    {
      "metadata": {
        "trusted": true
      },
      "cell_type": "code",
      "source": "def scale_pd_column(column):\n    '''\n    (X - 최소값) / (최대 - 최소)\n    '''\n    bottom = column.min()\n    top = column.max()\n    scaled = (column - ???) / (top - bottom)\n    return scaled, bottom, top\n",
      "execution_count": 28,
      "outputs": []
    },
    {
      "metadata": {
        "trusted": true
      },
      "cell_type": "code",
      "source": "print(list(df.columns))",
      "execution_count": 24,
      "outputs": [
        {
          "output_type": "stream",
          "text": "['년도', '월', '일', '시간', '유속', '유향', '유향deg', '수온', '염분', '유의파고', '유의파주기', '최대파고', '최대파주기', '풍속', '풍향', '풍향deg', '기온', '기압', '시정']\n",
          "name": "stdout"
        }
      ]
    },
    {
      "metadata": {
        "trusted": true
      },
      "cell_type": "code",
      "source": "print(df.유속.values[:10])",
      "execution_count": 25,
      "outputs": [
        {
          "output_type": "stream",
          "text": "[10.1 13.3 41.9 48.8 21.2 28.7 27.5  7.5  6.9  5. ]\n",
          "name": "stdout"
        }
      ]
    },
    {
      "metadata": {
        "trusted": true
      },
      "cell_type": "code",
      "source": "print(df.유향.values[:10])",
      "execution_count": 26,
      "outputs": [
        {
          "output_type": "stream",
          "text": "['북북동' '서' '서남서' '서남서' '북북서' '북북동' '북북동' '북서' '남서' '남']\n",
          "name": "stdout"
        }
      ]
    },
    {
      "metadata": {
        "trusted": true
      },
      "cell_type": "code",
      "source": "scaled, b, t = scale_pd_column(df.유속)\nprint(b, t)\ndf['새유속'] = ???",
      "execution_count": 33,
      "outputs": [
        {
          "output_type": "stream",
          "text": "0.2 64.5\n",
          "name": "stdout"
        }
      ]
    },
    {
      "metadata": {
        "trusted": true
      },
      "cell_type": "code",
      "source": "for v1, v2 in zip(df.새유속[:30], df.유속[:30]):\n    print(v1, v2)",
      "execution_count": 34,
      "outputs": [
        {
          "output_type": "stream",
          "text": "0.15396578538102645 10.1\n0.2037325038880249 13.3\n0.6485225505443234 41.9\n0.7558320373250388 48.8\n0.32659409020217733 21.2\n0.44323483670295494 28.7\n0.4245723172628305 27.5\n0.11353032659409021 7.5\n0.104199066874028 6.9\n0.07465007776049767 5.0\n0.16640746500777606 10.9\n0.07931570762052877 5.3\n0.22861586314152413 14.9\n0.24883359253499224 16.2\n0.5552099533437014 35.9\n0.6454121306376361 41.7\n0.26127527216174184 17.0\n0.3390357698289269 22.0\n0.36547433903576987 23.7\n0.2006220839813375 13.1\n0.14307931570762056 9.4\nnan nan\n0.4090202177293935 26.5\n0.4339035769828927 28.1\n0.2255054432348367 14.7\n0.208398133748056 13.6\n0.5178849144634525 33.5\n0.5303265940902021 34.3\n0.8662519440124417 55.9\n0.6578538102643857 42.5\n",
          "name": "stdout"
        }
      ]
    },
    {
      "metadata": {
        "trusted": true
      },
      "cell_type": "code",
      "source": "",
      "execution_count": null,
      "outputs": []
    }
  ],
  "metadata": {
    "kernelspec": {
      "name": "python36",
      "display_name": "Python 3.6",
      "language": "python"
    },
    "language_info": {
      "mimetype": "text/x-python",
      "nbconvert_exporter": "python",
      "name": "python",
      "pygments_lexer": "ipython3",
      "version": "3.6.6",
      "file_extension": ".py",
      "codemirror_mode": {
        "version": 3,
        "name": "ipython"
      }
    }
  },
  "nbformat": 4,
  "nbformat_minor": 1
}