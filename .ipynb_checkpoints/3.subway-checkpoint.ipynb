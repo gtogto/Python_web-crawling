{
  "cells": [
    {
      "metadata": {
        "trusted": true
      },
      "cell_type": "code",
      "source": "import pandas as pd\nimport numpy as np\nimport collections\n\nfldnames = ['time', 'bound', 'st1', 'st2', 'n', 'v1', 'v2', 'v3']\ndf = pd.read_csv('subwayhopo.csv', names=fldnames, header=0, na_values=[])\n",
      "execution_count": 1,
      "outputs": []
    },
    {
      "metadata": {
        "trusted": true
      },
      "cell_type": "code",
      "source": "df.head()",
      "execution_count": 29,
      "outputs": [
        {
          "output_type": "execute_result",
          "execution_count": 29,
          "data": {
            "text/html": "<div>\n<style scoped>\n    .dataframe tbody tr th:only-of-type {\n        vertical-align: middle;\n    }\n\n    .dataframe tbody tr th {\n        vertical-align: top;\n    }\n\n    .dataframe thead th {\n        text-align: right;\n    }\n</style>\n<table border=\"1\" class=\"dataframe\">\n  <thead>\n    <tr style=\"text-align: right;\">\n      <th></th>\n      <th>time</th>\n      <th>bound</th>\n      <th>st1</th>\n      <th>st2</th>\n      <th>n</th>\n      <th>v1</th>\n      <th>v2</th>\n      <th>v3</th>\n    </tr>\n  </thead>\n  <tbody>\n    <tr>\n      <th>0</th>\n      <td>2017-03-02AM 6:50:39</td>\n      <td>ANPYUNG_bound</td>\n      <td>youngsanDae</td>\n      <td>Dongbusan</td>\n      <td>3</td>\n      <td>9.34375</td>\n      <td>1.187877</td>\n      <td>0.107574</td>\n    </tr>\n    <tr>\n      <th>1</th>\n      <td>2017-03-02AM 6:50:39</td>\n      <td>ANPYUNG_bound</td>\n      <td>youngsanDae</td>\n      <td>Dongbusan</td>\n      <td>3</td>\n      <td>9.34375</td>\n      <td>1.193848</td>\n      <td>0.106580</td>\n    </tr>\n    <tr>\n      <th>2</th>\n      <td>2017-03-02AM 6:50:39</td>\n      <td>ANPYUNG_bound</td>\n      <td>youngsanDae</td>\n      <td>Dongbusan</td>\n      <td>3</td>\n      <td>9.34375</td>\n      <td>1.193848</td>\n      <td>0.110554</td>\n    </tr>\n    <tr>\n      <th>3</th>\n      <td>2017-03-02AM 6:50:39</td>\n      <td>ANPYUNG_bound</td>\n      <td>youngsanDae</td>\n      <td>Dongbusan</td>\n      <td>3</td>\n      <td>9.34375</td>\n      <td>1.188872</td>\n      <td>0.112540</td>\n    </tr>\n    <tr>\n      <th>4</th>\n      <td>2017-03-02AM 6:50:39</td>\n      <td>ANPYUNG_bound</td>\n      <td>youngsanDae</td>\n      <td>Dongbusan</td>\n      <td>3</td>\n      <td>9.34375</td>\n      <td>1.189867</td>\n      <td>0.109560</td>\n    </tr>\n  </tbody>\n</table>\n</div>",
            "text/plain": "                   time          bound          st1        st2  n       v1  \\\n0  2017-03-02AM 6:50:39  ANPYUNG_bound  youngsanDae  Dongbusan  3  9.34375   \n1  2017-03-02AM 6:50:39  ANPYUNG_bound  youngsanDae  Dongbusan  3  9.34375   \n2  2017-03-02AM 6:50:39  ANPYUNG_bound  youngsanDae  Dongbusan  3  9.34375   \n3  2017-03-02AM 6:50:39  ANPYUNG_bound  youngsanDae  Dongbusan  3  9.34375   \n4  2017-03-02AM 6:50:39  ANPYUNG_bound  youngsanDae  Dongbusan  3  9.34375   \n\n         v2        v3  \n0  1.187877  0.107574  \n1  1.193848  0.106580  \n2  1.193848  0.110554  \n3  1.188872  0.112540  \n4  1.189867  0.109560  "
          },
          "metadata": {}
        }
      ]
    },
    {
      "metadata": {
        "trusted": true
      },
      "cell_type": "code",
      "source": "grouped = df.groupby(['st2','n'])\nprint(grouped.groups)",
      "execution_count": 23,
      "outputs": [
        {
          "output_type": "stream",
          "text": "{('Dongbusan', 3): Int64Index([  0,   1,   2,   3,   4,   5,   6,   7,   8,   9,\n            ...\n            123, 124, 125, 126, 127, 128, 129, 130, 131, 132],\n           dtype='int64', length=133), ('Dongbusan', 1084): Int64Index([133, 134, 135, 136, 137, 138, 139, 140, 141, 142, 143, 144, 145,\n            146, 147, 148, 149, 150, 151],\n           dtype='int64')}\n",
          "name": "stdout"
        }
      ]
    },
    {
      "metadata": {
        "trusted": true
      },
      "cell_type": "code",
      "source": "df2 = df.loc[grouped.groups[('Dongbusan', 3)]]",
      "execution_count": 25,
      "outputs": []
    },
    {
      "metadata": {
        "trusted": true
      },
      "cell_type": "code",
      "source": "df3 = df.loc[grouped.groups[('Dongbusan', 1084)]]",
      "execution_count": 26,
      "outputs": []
    },
    {
      "metadata": {
        "trusted": true
      },
      "cell_type": "code",
      "source": "df2.describe()",
      "execution_count": 27,
      "outputs": [
        {
          "output_type": "execute_result",
          "execution_count": 27,
          "data": {
            "text/html": "<div>\n<style scoped>\n    .dataframe tbody tr th:only-of-type {\n        vertical-align: middle;\n    }\n\n    .dataframe tbody tr th {\n        vertical-align: top;\n    }\n\n    .dataframe thead th {\n        text-align: right;\n    }\n</style>\n<table border=\"1\" class=\"dataframe\">\n  <thead>\n    <tr style=\"text-align: right;\">\n      <th></th>\n      <th>n</th>\n      <th>v1</th>\n      <th>v2</th>\n      <th>v3</th>\n    </tr>\n  </thead>\n  <tbody>\n    <tr>\n      <th>count</th>\n      <td>133.0</td>\n      <td>133.00000</td>\n      <td>133.000000</td>\n      <td>133.000000</td>\n    </tr>\n    <tr>\n      <th>mean</th>\n      <td>3.0</td>\n      <td>9.34375</td>\n      <td>1.171793</td>\n      <td>0.112463</td>\n    </tr>\n    <tr>\n      <th>std</th>\n      <td>0.0</td>\n      <td>0.00000</td>\n      <td>0.026777</td>\n      <td>0.006597</td>\n    </tr>\n    <tr>\n      <th>min</th>\n      <td>3.0</td>\n      <td>9.34375</td>\n      <td>1.119248</td>\n      <td>0.097641</td>\n    </tr>\n    <tr>\n      <th>25%</th>\n      <td>3.0</td>\n      <td>9.34375</td>\n      <td>1.150085</td>\n      <td>0.107574</td>\n    </tr>\n    <tr>\n      <th>50%</th>\n      <td>3.0</td>\n      <td>9.34375</td>\n      <td>1.184892</td>\n      <td>0.111547</td>\n    </tr>\n    <tr>\n      <th>75%</th>\n      <td>3.0</td>\n      <td>9.34375</td>\n      <td>1.194843</td>\n      <td>0.116513</td>\n    </tr>\n    <tr>\n      <th>max</th>\n      <td>3.0</td>\n      <td>9.34375</td>\n      <td>1.210753</td>\n      <td>0.130407</td>\n    </tr>\n  </tbody>\n</table>\n</div>",
            "text/plain": "           n         v1          v2          v3\ncount  133.0  133.00000  133.000000  133.000000\nmean     3.0    9.34375    1.171793    0.112463\nstd      0.0    0.00000    0.026777    0.006597\nmin      3.0    9.34375    1.119248    0.097641\n25%      3.0    9.34375    1.150085    0.107574\n50%      3.0    9.34375    1.184892    0.111547\n75%      3.0    9.34375    1.194843    0.116513\nmax      3.0    9.34375    1.210753    0.130407"
          },
          "metadata": {}
        }
      ]
    },
    {
      "metadata": {
        "trusted": true
      },
      "cell_type": "code",
      "source": "df3.describe()",
      "execution_count": 28,
      "outputs": [
        {
          "output_type": "execute_result",
          "execution_count": 28,
          "data": {
            "text/html": "<div>\n<style scoped>\n    .dataframe tbody tr th:only-of-type {\n        vertical-align: middle;\n    }\n\n    .dataframe tbody tr th {\n        vertical-align: top;\n    }\n\n    .dataframe thead th {\n        text-align: right;\n    }\n</style>\n<table border=\"1\" class=\"dataframe\">\n  <thead>\n    <tr style=\"text-align: right;\">\n      <th></th>\n      <th>n</th>\n      <th>v1</th>\n      <th>v2</th>\n      <th>v3</th>\n    </tr>\n  </thead>\n  <tbody>\n    <tr>\n      <th>count</th>\n      <td>19.0</td>\n      <td>19.000000</td>\n      <td>19.000000</td>\n      <td>19.000000</td>\n    </tr>\n    <tr>\n      <th>mean</th>\n      <td>1084.0</td>\n      <td>17.609375</td>\n      <td>1.233264</td>\n      <td>0.113477</td>\n    </tr>\n    <tr>\n      <th>std</th>\n      <td>0.0</td>\n      <td>0.000000</td>\n      <td>0.005630</td>\n      <td>0.009132</td>\n    </tr>\n    <tr>\n      <th>min</th>\n      <td>1084.0</td>\n      <td>17.609375</td>\n      <td>1.222695</td>\n      <td>0.097641</td>\n    </tr>\n    <tr>\n      <th>25%</th>\n      <td>1084.0</td>\n      <td>17.609375</td>\n      <td>1.230147</td>\n      <td>0.108070</td>\n    </tr>\n    <tr>\n      <th>50%</th>\n      <td>1084.0</td>\n      <td>17.609375</td>\n      <td>1.231639</td>\n      <td>0.111547</td>\n    </tr>\n    <tr>\n      <th>75%</th>\n      <td>1084.0</td>\n      <td>17.609375</td>\n      <td>1.237113</td>\n      <td>0.120971</td>\n    </tr>\n    <tr>\n      <th>max</th>\n      <td>1084.0</td>\n      <td>17.609375</td>\n      <td>1.243581</td>\n      <td>0.127428</td>\n    </tr>\n  </tbody>\n</table>\n</div>",
            "text/plain": "            n         v1         v2         v3\ncount    19.0  19.000000  19.000000  19.000000\nmean   1084.0  17.609375   1.233264   0.113477\nstd       0.0   0.000000   0.005630   0.009132\nmin    1084.0  17.609375   1.222695   0.097641\n25%    1084.0  17.609375   1.230147   0.108070\n50%    1084.0  17.609375   1.231639   0.111547\n75%    1084.0  17.609375   1.237113   0.120971\nmax    1084.0  17.609375   1.243581   0.127428"
          },
          "metadata": {}
        }
      ]
    },
    {
      "metadata": {
        "trusted": true
      },
      "cell_type": "code",
      "source": "\n# 3개 필드에 대한 합을 구하기 위해.\n# np.zeros(4) --> 4개의 0.0으로 구성된 array 생성.\n# 4개중에 제일앞 값은 개수 count 용.  뒤 3개는 v1, v2, v3 필드값 합계용\nD = collections.defaultdict(lambda : np.zeros(4))\n\n# 시간값(time필드)를 기준으로 동일\nfor r in df.itertuples():\n  key = '%s,%s,%s,%s,%d' % (r.time, r.bound, r.st1, r.st2, r.n)\n  D[key] += [1, r.v1, r.v2, r.v3]\n\n# 시간값 목록 소팅\nkeys = list(D.keys())\nkeys.sort()\n\n# 결과파일\nout = open('out.csv', 'w')\n\nfor k in keys:\n  v = D[k]\n  # v[0] == 해당 key의 데이터 건수임. 그러므로 나누기를 해야함.\n  v[1] = v[1] / v[0]\n  v[2] = v[2] / v[0]\n  v[3] = v[3] / v[0]\n  line = '%s,%.4f,%.4f,%.4f' % (k, v[1], v[2], v[3])\n  out.write(line + '\\n') # 파일 저장\n  print(line) # 화면으로도 출력하기 위해\n\n",
      "execution_count": null,
      "outputs": []
    }
  ],
  "metadata": {
    "kernelspec": {
      "name": "python36",
      "display_name": "Python 3.6",
      "language": "python"
    },
    "language_info": {
      "mimetype": "text/x-python",
      "nbconvert_exporter": "python",
      "name": "python",
      "pygments_lexer": "ipython3",
      "version": "3.6.6",
      "file_extension": ".py",
      "codemirror_mode": {
        "version": 3,
        "name": "ipython"
      }
    }
  },
  "nbformat": 4,
  "nbformat_minor": 1
}