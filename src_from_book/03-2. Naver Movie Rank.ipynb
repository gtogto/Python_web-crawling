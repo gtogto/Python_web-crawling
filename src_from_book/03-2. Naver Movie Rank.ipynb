{
  "cells": [
    {
      "metadata": {},
      "cell_type": "markdown",
      "source": "# 3장 후반부 코드\n\n### 작성 : [PinkWink](http://pinkwink.kr) \n\n## 네이버 영화 평점 기준 영화의 평점 변화 확인하기"
    },
    {
      "metadata": {
        "trusted": true
      },
      "cell_type": "code",
      "source": "from bs4 import BeautifulSoup  \nimport pandas as pd",
      "execution_count": 6,
      "outputs": []
    },
    {
      "metadata": {
        "scrolled": true,
        "trusted": true
      },
      "cell_type": "code",
      "source": "from urllib.request import urlopen\n\nurl_base = \"http://movie.naver.com/\"\nurl_syb = \"movie/sdb/rank/rmovie.nhn?sel=cur&date=20180101\"\n\npage = urlopen(url_base+url_syb)\n\nsoup = BeautifulSoup(page, \"html.parser\")\nprint(type(soup))",
      "execution_count": 7,
      "outputs": [
        {
          "output_type": "stream",
          "text": "<class 'bs4.BeautifulSoup'>\n",
          "name": "stdout"
        }
      ]
    },
    {
      "metadata": {
        "trusted": true
      },
      "cell_type": "code",
      "source": "",
      "execution_count": null,
      "outputs": []
    },
    {
      "metadata": {
        "scrolled": true,
        "trusted": true
      },
      "cell_type": "code",
      "source": "soup.find_all('div', 'tit5')",
      "execution_count": 8,
      "outputs": [
        {
          "output_type": "execute_result",
          "execution_count": 8,
          "data": {
            "text/plain": "[<div class=\"tit5\">\n <a href=\"/movie/bi/mi/basic.nhn?code=151196\" title=\"원더\">원더</a>\n </div>, <div class=\"tit5\">\n <a href=\"/movie/bi/mi/basic.nhn?code=106360\" title=\"위대한 쇼맨\">위대한 쇼맨</a>\n </div>, <div class=\"tit5\">\n <a href=\"/movie/bi/mi/basic.nhn?code=154573\" title=\"다시 태어나도 우리\">다시 태어나도 우리</a>\n </div>, <div class=\"tit5\">\n <a href=\"/movie/bi/mi/basic.nhn?code=158191\" title=\"1987\">1987</a>\n </div>, <div class=\"tit5\">\n <a href=\"/movie/bi/mi/basic.nhn?code=144379\" title=\"러빙 빈센트\">러빙 빈센트</a>\n </div>, <div class=\"tit5\">\n <a href=\"/movie/bi/mi/basic.nhn?code=10173\" title=\"사랑과 영혼\">사랑과 영혼</a>\n </div>, <div class=\"tit5\">\n <a href=\"/movie/bi/mi/basic.nhn?code=10046\" title=\"빠삐용\">빠삐용</a>\n </div>, <div class=\"tit5\">\n <a href=\"/movie/bi/mi/basic.nhn?code=154437\" title=\"내 사랑\">내 사랑</a>\n </div>, <div class=\"tit5\">\n <a href=\"/movie/bi/mi/basic.nhn?code=169349\" title=\"뽀로로 극장판 공룡섬 대모험\">뽀로로 극장판 공룡섬 대모험</a>\n </div>, <div class=\"tit5\">\n <a href=\"/movie/bi/mi/basic.nhn?code=17327\" title=\"히트\">히트</a>\n </div>, <div class=\"tit5\">\n <a href=\"/movie/bi/mi/basic.nhn?code=38444\" title=\"이터널 선샤인\">이터널 선샤인</a>\n </div>, <div class=\"tit5\">\n <a href=\"/movie/bi/mi/basic.nhn?code=19031\" title=\"러브레터\">러브레터</a>\n </div>, <div class=\"tit5\">\n <a href=\"/movie/bi/mi/basic.nhn?code=31882\" title=\"물랑 루즈\">물랑 루즈</a>\n </div>, <div class=\"tit5\">\n <a href=\"/movie/bi/mi/basic.nhn?code=39440\" title=\"이프 온리\">이프 온리</a>\n </div>, <div class=\"tit5\">\n <a href=\"/movie/bi/mi/basic.nhn?code=36843\" title=\"러브 액츄얼리\">러브 액츄얼리</a>\n </div>, <div class=\"tit5\">\n <a href=\"/movie/bi/mi/basic.nhn?code=165722\" title=\"극장판 포켓몬스터 너로 정했다!\">극장판 포켓몬스터 너로 정했다!</a>\n </div>, <div class=\"tit5\">\n <a href=\"/movie/bi/mi/basic.nhn?code=156912\" title=\"안녕, 나의 소울메이트\">안녕, 나의 소울메이트</a>\n </div>, <div class=\"tit5\">\n <a href=\"/movie/bi/mi/basic.nhn?code=66091\" title=\"벤자민 버튼의 시간은 거꾸로 간다\">벤자민 버튼의 시간은 거꾸로 간다</a>\n </div>, <div class=\"tit5\">\n <a href=\"/movie/bi/mi/basic.nhn?code=103719\" title=\"그렇게 아버지가 된다\">그렇게 아버지가 된다</a>\n </div>, <div class=\"tit5\">\n <a href=\"/movie/bi/mi/basic.nhn?code=38546\" title=\"아무도 모른다\">아무도 모른다</a>\n </div>, <div class=\"tit5\">\n <a href=\"/movie/bi/mi/basic.nhn?code=98432\" title=\"가장 따뜻한 색, 블루\">가장 따뜻한 색, 블루</a>\n </div>, <div class=\"tit5\">\n <a href=\"/movie/bi/mi/basic.nhn?code=132610\" title=\"바닷마을 다이어리\">바닷마을 다이어리</a>\n </div>, <div class=\"tit5\">\n <a href=\"/movie/bi/mi/basic.nhn?code=124225\" title=\"마미\">마미</a>\n </div>, <div class=\"tit5\">\n <a href=\"/movie/bi/mi/basic.nhn?code=97858\" title=\"월터의 상상은 현실이 된다\">월터의 상상은 현실이 된다</a>\n </div>, <div class=\"tit5\">\n <a href=\"/movie/bi/mi/basic.nhn?code=163844\" title=\"몬스터 패밀리\">몬스터 패밀리</a>\n </div>, <div class=\"tit5\">\n <a href=\"/movie/bi/mi/basic.nhn?code=50749\" title=\"걸어도 걸어도\">걸어도 걸어도</a>\n </div>, <div class=\"tit5\">\n <a href=\"/movie/bi/mi/basic.nhn?code=134963\" title=\"라라랜드\">라라랜드</a>\n </div>, <div class=\"tit5\">\n <a href=\"/movie/bi/mi/basic.nhn?code=146548\" title=\"태풍이 지나가고\">태풍이 지나가고</a>\n </div>, <div class=\"tit5\">\n <a href=\"/movie/bi/mi/basic.nhn?code=101962\" title=\"캐롤\">캐롤</a>\n </div>, <div class=\"tit5\">\n <a href=\"/movie/bi/mi/basic.nhn?code=101950\" title=\"그녀\">그녀</a>\n </div>, <div class=\"tit5\">\n <a href=\"/movie/bi/mi/basic.nhn?code=155665\" title=\"강철비\">강철비</a>\n </div>, <div class=\"tit5\">\n <a href=\"/movie/bi/mi/basic.nhn?code=144975\" title=\"패터슨\">패터슨</a>\n </div>, <div class=\"tit5\">\n <a href=\"/movie/bi/mi/basic.nhn?code=154272\" title=\"오리엔트 특급 살인\">오리엔트 특급 살인</a>\n </div>, <div class=\"tit5\">\n <a href=\"/movie/bi/mi/basic.nhn?code=85579\" title=\"신과함께-죄와 벌\">신과함께-죄와 벌</a>\n </div>, <div class=\"tit5\">\n <a href=\"/movie/bi/mi/basic.nhn?code=166583\" title=\"세 번째 살인\">세 번째 살인</a>\n </div>, <div class=\"tit5\">\n <a href=\"/movie/bi/mi/basic.nhn?code=159830\" title=\"너의 췌장을 먹고 싶어\">너의 췌장을 먹고 싶어</a>\n </div>, <div class=\"tit5\">\n <a href=\"/movie/bi/mi/basic.nhn?code=152385\" title=\"꾼\">꾼</a>\n </div>, <div class=\"tit5\">\n <a href=\"/movie/bi/mi/basic.nhn?code=159037\" title=\"메리와 마녀의 꽃\">메리와 마녀의 꽃</a>\n </div>, <div class=\"tit5\">\n <a href=\"/movie/bi/mi/basic.nhn?code=100205\" title=\"어쌔신: 더 비기닝\">어쌔신: 더 비기닝</a>\n </div>, <div class=\"tit5\">\n <a href=\"/movie/bi/mi/basic.nhn?code=125488\" title=\"스타워즈: 라스트 제다이\">스타워즈: 라스트 제다이</a>\n </div>]"
          },
          "metadata": {}
        }
      ]
    },
    {
      "metadata": {
        "trusted": true
      },
      "cell_type": "code",
      "source": "soup.find_all('div', 'tit5')[0]",
      "execution_count": 9,
      "outputs": [
        {
          "output_type": "execute_result",
          "execution_count": 9,
          "data": {
            "text/plain": "<div class=\"tit5\">\n<a href=\"/movie/bi/mi/basic.nhn?code=151196\" title=\"원더\">원더</a>\n</div>"
          },
          "metadata": {}
        }
      ]
    },
    {
      "metadata": {
        "trusted": true
      },
      "cell_type": "code",
      "source": "soup.find_all('div', 'tit5')[0].a",
      "execution_count": 10,
      "outputs": [
        {
          "output_type": "execute_result",
          "execution_count": 10,
          "data": {
            "text/plain": "<a href=\"/movie/bi/mi/basic.nhn?code=151196\" title=\"원더\">원더</a>"
          },
          "metadata": {}
        }
      ]
    },
    {
      "metadata": {
        "scrolled": true,
        "trusted": true
      },
      "cell_type": "code",
      "source": "soup.find_all('div', 'tit5')[0].a.string",
      "execution_count": 11,
      "outputs": [
        {
          "output_type": "execute_result",
          "execution_count": 11,
          "data": {
            "text/plain": "'원더'"
          },
          "metadata": {}
        }
      ]
    },
    {
      "metadata": {
        "trusted": true
      },
      "cell_type": "code",
      "source": "soup.find_all('div', 'tit5')[0].a.text",
      "execution_count": 12,
      "outputs": [
        {
          "output_type": "execute_result",
          "execution_count": 12,
          "data": {
            "text/plain": "'원더'"
          },
          "metadata": {}
        }
      ]
    },
    {
      "metadata": {
        "trusted": true
      },
      "cell_type": "code",
      "source": "soup.find_all('div', 'tit5')[0].a['href']",
      "execution_count": 13,
      "outputs": [
        {
          "output_type": "execute_result",
          "execution_count": 13,
          "data": {
            "text/plain": "'/movie/bi/mi/basic.nhn?code=151196'"
          },
          "metadata": {}
        }
      ]
    },
    {
      "metadata": {
        "trusted": true
      },
      "cell_type": "code",
      "source": "soup.find_all('div', 'tit5')[0].a['???']",
      "execution_count": 14,
      "outputs": [
        {
          "output_type": "error",
          "ename": "KeyError",
          "evalue": "'???'",
          "traceback": [
            "\u001b[0;31m---------------------------------------------------------------------------\u001b[0m",
            "\u001b[0;31mKeyError\u001b[0m                                  Traceback (most recent call last)",
            "\u001b[0;32m<ipython-input-14-dedb738c2bdd>\u001b[0m in \u001b[0;36m<module>\u001b[0;34m()\u001b[0m\n\u001b[0;32m----> 1\u001b[0;31m \u001b[0msoup\u001b[0m\u001b[0;34m.\u001b[0m\u001b[0mfind_all\u001b[0m\u001b[0;34m(\u001b[0m\u001b[0;34m'div'\u001b[0m\u001b[0;34m,\u001b[0m \u001b[0;34m'tit5'\u001b[0m\u001b[0;34m)\u001b[0m\u001b[0;34m[\u001b[0m\u001b[0;36m0\u001b[0m\u001b[0;34m]\u001b[0m\u001b[0;34m.\u001b[0m\u001b[0ma\u001b[0m\u001b[0;34m[\u001b[0m\u001b[0;34m'???'\u001b[0m\u001b[0;34m]\u001b[0m\u001b[0;34m\u001b[0m\u001b[0m\n\u001b[0m",
            "\u001b[0;32m~/anaconda3_420/lib/python3.5/site-packages/bs4/element.py\u001b[0m in \u001b[0;36m__getitem__\u001b[0;34m(self, key)\u001b[0m\n\u001b[1;32m    995\u001b[0m         \"\"\"tag[key] returns the value of the 'key' attribute for the tag,\n\u001b[1;32m    996\u001b[0m         and throws an exception if it's not there.\"\"\"\n\u001b[0;32m--> 997\u001b[0;31m         \u001b[0;32mreturn\u001b[0m \u001b[0mself\u001b[0m\u001b[0;34m.\u001b[0m\u001b[0mattrs\u001b[0m\u001b[0;34m[\u001b[0m\u001b[0mkey\u001b[0m\u001b[0;34m]\u001b[0m\u001b[0;34m\u001b[0m\u001b[0m\n\u001b[0m\u001b[1;32m    998\u001b[0m \u001b[0;34m\u001b[0m\u001b[0m\n\u001b[1;32m    999\u001b[0m     \u001b[0;32mdef\u001b[0m \u001b[0m__iter__\u001b[0m\u001b[0;34m(\u001b[0m\u001b[0mself\u001b[0m\u001b[0;34m)\u001b[0m\u001b[0;34m:\u001b[0m\u001b[0;34m\u001b[0m\u001b[0m\n",
            "\u001b[0;31mKeyError\u001b[0m: '???'"
          ]
        }
      ]
    },
    {
      "metadata": {
        "scrolled": true,
        "trusted": true
      },
      "cell_type": "code",
      "source": "soup.find_all('td', 'point')",
      "execution_count": 15,
      "outputs": [
        {
          "output_type": "execute_result",
          "execution_count": 15,
          "data": {
            "text/plain": "[<td class=\"point\">9.45</td>,\n <td class=\"point\">9.44</td>,\n <td class=\"point\">9.33</td>,\n <td class=\"point\">9.25</td>,\n <td class=\"point\">9.19</td>,\n <td class=\"point\">9.17</td>,\n <td class=\"point\">9.17</td>,\n <td class=\"point\">9.17</td>,\n <td class=\"point\">9.16</td>,\n <td class=\"point\">9.11</td>,\n <td class=\"point\">9.10</td>,\n <td class=\"point\">9.09</td>,\n <td class=\"point\">9.09</td>,\n <td class=\"point\">9.08</td>,\n <td class=\"point\">8.99</td>,\n <td class=\"point\">8.98</td>,\n <td class=\"point\">8.94</td>,\n <td class=\"point\">8.87</td>,\n <td class=\"point\">8.82</td>,\n <td class=\"point\">8.82</td>,\n <td class=\"point\">8.82</td>,\n <td class=\"point\">8.74</td>,\n <td class=\"point\">8.68</td>,\n <td class=\"point\">8.65</td>,\n <td class=\"point\">8.65</td>,\n <td class=\"point\">8.64</td>,\n <td class=\"point\">8.60</td>,\n <td class=\"point\">8.60</td>,\n <td class=\"point\">8.53</td>,\n <td class=\"point\">8.50</td>,\n <td class=\"point\">8.48</td>,\n <td class=\"point\">8.28</td>,\n <td class=\"point\">8.12</td>,\n <td class=\"point\">8.06</td>,\n <td class=\"point\">8.05</td>,\n <td class=\"point\">7.96</td>,\n <td class=\"point\">7.75</td>,\n <td class=\"point\">7.35</td>,\n <td class=\"point\">7.21</td>,\n <td class=\"point\">6.97</td>]"
          },
          "metadata": {}
        }
      ]
    },
    {
      "metadata": {
        "trusted": true
      },
      "cell_type": "code",
      "source": "len(soup.find_all('td', 'point'))",
      "execution_count": 16,
      "outputs": [
        {
          "output_type": "execute_result",
          "execution_count": 16,
          "data": {
            "text/plain": "40"
          },
          "metadata": {}
        }
      ]
    },
    {
      "metadata": {
        "trusted": true
      },
      "cell_type": "code",
      "source": "soup.find_all('td', 'point')[0].string",
      "execution_count": 17,
      "outputs": [
        {
          "output_type": "execute_result",
          "execution_count": 17,
          "data": {
            "text/plain": "'9.45'"
          },
          "metadata": {}
        }
      ]
    },
    {
      "metadata": {
        "scrolled": true,
        "trusted": true
      },
      "cell_type": "code",
      "source": "movie_name = [tag.a.string for tag in soup.find_all('div', 'tit5')]\nmovie_name",
      "execution_count": 18,
      "outputs": [
        {
          "output_type": "execute_result",
          "execution_count": 18,
          "data": {
            "text/plain": "['원더',\n '위대한 쇼맨',\n '다시 태어나도 우리',\n '1987',\n '러빙 빈센트',\n '사랑과 영혼',\n '빠삐용',\n '내 사랑',\n '뽀로로 극장판 공룡섬 대모험',\n '히트',\n '이터널 선샤인',\n '러브레터',\n '물랑 루즈',\n '이프 온리',\n '러브 액츄얼리',\n '극장판 포켓몬스터 너로 정했다!',\n '안녕, 나의 소울메이트',\n '벤자민 버튼의 시간은 거꾸로 간다',\n '그렇게 아버지가 된다',\n '아무도 모른다',\n '가장 따뜻한 색, 블루',\n '바닷마을 다이어리',\n '마미',\n '월터의 상상은 현실이 된다',\n '몬스터 패밀리',\n '걸어도 걸어도',\n '라라랜드',\n '태풍이 지나가고',\n '캐롤',\n '그녀',\n '강철비',\n '패터슨',\n '오리엔트 특급 살인',\n '신과함께-죄와 벌',\n '세 번째 살인',\n '너의 췌장을 먹고 싶어',\n '꾼',\n '메리와 마녀의 꽃',\n '어쌔신: 더 비기닝',\n '스타워즈: 라스트 제다이']"
          },
          "metadata": {}
        }
      ]
    },
    {
      "metadata": {
        "scrolled": true,
        "trusted": true
      },
      "cell_type": "code",
      "source": "movie_point = [tag.string for tag in soup.find_all('td', 'point')]\nmovie_point",
      "execution_count": 19,
      "outputs": [
        {
          "output_type": "execute_result",
          "execution_count": 19,
          "data": {
            "text/plain": "['9.45',\n '9.44',\n '9.33',\n '9.25',\n '9.19',\n '9.17',\n '9.17',\n '9.17',\n '9.16',\n '9.11',\n '9.10',\n '9.09',\n '9.09',\n '9.08',\n '8.99',\n '8.98',\n '8.94',\n '8.87',\n '8.82',\n '8.82',\n '8.82',\n '8.74',\n '8.68',\n '8.65',\n '8.65',\n '8.64',\n '8.60',\n '8.60',\n '8.53',\n '8.50',\n '8.48',\n '8.28',\n '8.12',\n '8.06',\n '8.05',\n '7.96',\n '7.75',\n '7.35',\n '7.21',\n '6.97']"
          },
          "metadata": {}
        }
      ]
    },
    {
      "metadata": {
        "trusted": true
      },
      "cell_type": "code",
      "source": "date = pd.date_range('2018-1-1', periods=20, freq='M') # 월 단위\ndate",
      "execution_count": 20,
      "outputs": [
        {
          "output_type": "execute_result",
          "execution_count": 20,
          "data": {
            "text/plain": "DatetimeIndex(['2018-01-31', '2018-02-28', '2018-03-31', '2018-04-30',\n               '2018-05-31', '2018-06-30', '2018-07-31', '2018-08-31',\n               '2018-09-30', '2018-10-31', '2018-11-30', '2018-12-31',\n               '2019-01-31', '2019-02-28', '2019-03-31', '2019-04-30',\n               '2019-05-31', '2019-06-30', '2019-07-31', '2019-08-31'],\n              dtype='datetime64[ns]', freq='M')"
          },
          "metadata": {}
        }
      ]
    },
    {
      "metadata": {
        "scrolled": false,
        "trusted": true
      },
      "cell_type": "code",
      "source": "date = pd.date_range('2018-1-1', periods=20, freq='D') # 일 단위\ndate",
      "execution_count": 21,
      "outputs": [
        {
          "output_type": "execute_result",
          "execution_count": 21,
          "data": {
            "text/plain": "DatetimeIndex(['2018-01-01', '2018-01-02', '2018-01-03', '2018-01-04',\n               '2018-01-05', '2018-01-06', '2018-01-07', '2018-01-08',\n               '2018-01-09', '2018-01-10', '2018-01-11', '2018-01-12',\n               '2018-01-13', '2018-01-14', '2018-01-15', '2018-01-16',\n               '2018-01-17', '2018-01-18', '2018-01-19', '2018-01-20'],\n              dtype='datetime64[ns]', freq='D')"
          },
          "metadata": {}
        }
      ]
    },
    {
      "metadata": {
        "scrolled": true,
        "trusted": true
      },
      "cell_type": "code",
      "source": "import urllib\nfrom tqdm import tqdm_notebook # 진행 Progress bar 사용\n\nmovie_dates = []\nmovie_names = []\nmovie_points = []\n\nfor today in tqdm_notebook(date):\n    addr = \"http://movie.naver.com/\" + \\\n                                    \"movie/sdb/rank/rmovie.nhn?sel=cur&date={date}\"\n    url = addr.format(date=urllib.parse.quote(today.strftime('%Y%m%d')))\n    response = urlopen(url)\n    \n    soup = BeautifulSoup(response, \"html.parser\")\n    \n    cnt = len(soup.find_all('td', 'point'))\n    print(url, '-->', cnt)\n    \n    movie_dates.extend([today] * cnt)\n    movie_names.extend([tag.a.string for tag in soup.find_all('div', 'tit5')])\n    movie_points.extend([tag.string for tag in soup.find_all('td', 'point')])",
      "execution_count": 22,
      "outputs": [
        {
          "output_type": "display_data",
          "data": {
            "application/vnd.jupyter.widget-view+json": {
              "model_id": "2c6b9d1b650f413cb6662562965c5b7c",
              "version_minor": 0,
              "version_major": 2
            },
            "text/plain": "HBox(children=(IntProgress(value=0, max=20), HTML(value='')))"
          },
          "metadata": {}
        },
        {
          "output_type": "stream",
          "text": "http://movie.naver.com/movie/sdb/rank/rmovie.nhn?sel=cur&date=20180101 --> 40\nhttp://movie.naver.com/movie/sdb/rank/rmovie.nhn?sel=cur&date=20180102 --> 38\nhttp://movie.naver.com/movie/sdb/rank/rmovie.nhn?sel=cur&date=20180103 --> 30\nhttp://movie.naver.com/movie/sdb/rank/rmovie.nhn?sel=cur&date=20180104 --> 31\nhttp://movie.naver.com/movie/sdb/rank/rmovie.nhn?sel=cur&date=20180105 --> 33\nhttp://movie.naver.com/movie/sdb/rank/rmovie.nhn?sel=cur&date=20180106 --> 33\nhttp://movie.naver.com/movie/sdb/rank/rmovie.nhn?sel=cur&date=20180107 --> 34\nhttp://movie.naver.com/movie/sdb/rank/rmovie.nhn?sel=cur&date=20180108 --> 36\nhttp://movie.naver.com/movie/sdb/rank/rmovie.nhn?sel=cur&date=20180109 --> 36\nhttp://movie.naver.com/movie/sdb/rank/rmovie.nhn?sel=cur&date=20180110 --> 32\nhttp://movie.naver.com/movie/sdb/rank/rmovie.nhn?sel=cur&date=20180111 --> 34\nhttp://movie.naver.com/movie/sdb/rank/rmovie.nhn?sel=cur&date=20180112 --> 37\nhttp://movie.naver.com/movie/sdb/rank/rmovie.nhn?sel=cur&date=20180113 --> 37\nhttp://movie.naver.com/movie/sdb/rank/rmovie.nhn?sel=cur&date=20180114 --> 36\nhttp://movie.naver.com/movie/sdb/rank/rmovie.nhn?sel=cur&date=20180115 --> 35\nhttp://movie.naver.com/movie/sdb/rank/rmovie.nhn?sel=cur&date=20180116 --> 37\nhttp://movie.naver.com/movie/sdb/rank/rmovie.nhn?sel=cur&date=20180117 --> 37\nhttp://movie.naver.com/movie/sdb/rank/rmovie.nhn?sel=cur&date=20180118 --> 35\nhttp://movie.naver.com/movie/sdb/rank/rmovie.nhn?sel=cur&date=20180119 --> 38\nhttp://movie.naver.com/movie/sdb/rank/rmovie.nhn?sel=cur&date=20180120 --> 40\n\n",
          "name": "stdout"
        }
      ]
    },
    {
      "metadata": {
        "trusted": true
      },
      "cell_type": "code",
      "source": "len(movie_dates), len(movie_names), len(movie_points)",
      "execution_count": 23,
      "outputs": [
        {
          "output_type": "execute_result",
          "execution_count": 23,
          "data": {
            "text/plain": "(709, 709, 709)"
          },
          "metadata": {}
        }
      ]
    },
    {
      "metadata": {
        "trusted": true
      },
      "cell_type": "code",
      "source": "movie = pd.DataFrame({'date':movie_dates, 'name':movie_names, \n                                      'point':movie_points})\nmovie.sort_values(by=\"point\", ascending=False).head(10)",
      "execution_count": 32,
      "outputs": [
        {
          "output_type": "execute_result",
          "execution_count": 32,
          "data": {
            "text/plain": "          date    name point\n0   2018-01-01      원더  9.45\n1   2018-01-01  위대한 쇼맨  9.44\n139 2018-01-05      원더  9.44\n78  2018-01-03      원더  9.44\n40  2018-01-02  위대한 쇼맨  9.43\n109 2018-01-04  위대한 쇼맨  9.43\n108 2018-01-04      원더  9.43\n79  2018-01-03  위대한 쇼맨  9.43\n173 2018-01-06      원더  9.42\n172 2018-01-06  위대한 쇼맨  9.42",
            "text/html": "<div>\n<table border=\"1\" class=\"dataframe\">\n  <thead>\n    <tr style=\"text-align: right;\">\n      <th></th>\n      <th>date</th>\n      <th>name</th>\n      <th>point</th>\n    </tr>\n  </thead>\n  <tbody>\n    <tr>\n      <th>0</th>\n      <td>2018-01-01</td>\n      <td>원더</td>\n      <td>9.45</td>\n    </tr>\n    <tr>\n      <th>1</th>\n      <td>2018-01-01</td>\n      <td>위대한 쇼맨</td>\n      <td>9.44</td>\n    </tr>\n    <tr>\n      <th>139</th>\n      <td>2018-01-05</td>\n      <td>원더</td>\n      <td>9.44</td>\n    </tr>\n    <tr>\n      <th>78</th>\n      <td>2018-01-03</td>\n      <td>원더</td>\n      <td>9.44</td>\n    </tr>\n    <tr>\n      <th>40</th>\n      <td>2018-01-02</td>\n      <td>위대한 쇼맨</td>\n      <td>9.43</td>\n    </tr>\n    <tr>\n      <th>109</th>\n      <td>2018-01-04</td>\n      <td>위대한 쇼맨</td>\n      <td>9.43</td>\n    </tr>\n    <tr>\n      <th>108</th>\n      <td>2018-01-04</td>\n      <td>원더</td>\n      <td>9.43</td>\n    </tr>\n    <tr>\n      <th>79</th>\n      <td>2018-01-03</td>\n      <td>위대한 쇼맨</td>\n      <td>9.43</td>\n    </tr>\n    <tr>\n      <th>173</th>\n      <td>2018-01-06</td>\n      <td>원더</td>\n      <td>9.42</td>\n    </tr>\n    <tr>\n      <th>172</th>\n      <td>2018-01-06</td>\n      <td>위대한 쇼맨</td>\n      <td>9.42</td>\n    </tr>\n  </tbody>\n</table>\n</div>"
          },
          "metadata": {}
        }
      ]
    },
    {
      "metadata": {
        "trusted": true
      },
      "cell_type": "code",
      "source": "movie.info()",
      "execution_count": 33,
      "outputs": [
        {
          "output_type": "stream",
          "text": "<class 'pandas.core.frame.DataFrame'>\nRangeIndex: 709 entries, 0 to 708\nData columns (total 3 columns):\ndate     709 non-null datetime64[ns]\nname     709 non-null object\npoint    709 non-null object\ndtypes: datetime64[ns](1), object(2)\nmemory usage: 16.7+ KB\n",
          "name": "stdout"
        }
      ]
    },
    {
      "metadata": {
        "trusted": true
      },
      "cell_type": "code",
      "source": "movie['point'] = movie['point'].astype(float)\nmovie.info()",
      "execution_count": 34,
      "outputs": [
        {
          "output_type": "stream",
          "text": "<class 'pandas.core.frame.DataFrame'>\nRangeIndex: 709 entries, 0 to 708\nData columns (total 3 columns):\ndate     709 non-null datetime64[ns]\nname     709 non-null object\npoint    709 non-null float64\ndtypes: datetime64[ns](1), float64(1), object(1)\nmemory usage: 16.7+ KB\n",
          "name": "stdout"
        }
      ]
    },
    {
      "metadata": {
        "scrolled": true,
        "trusted": true
      },
      "cell_type": "code",
      "source": "import numpy as np\n\nmovie_unique = pd.pivot_table(movie, index=['name'], aggfunc=np.mean)\nmovie_best = movie_unique.sort_values(by='point', ascending=False)\nmovie_best.head(20)",
      "execution_count": 35,
      "outputs": [
        {
          "output_type": "execute_result",
          "execution_count": 35,
          "data": {
            "text/plain": "                        point\nname                         \n위대한 쇼맨               9.406000\n원더                   9.402000\n다시 태어나도 우리           9.327895\n로미오와 줄리엣             9.270000\n1987                 9.267500\n킹 오브 프리즘 프라이드 더 히어로  9.196667\n러빙 빈센트               9.181500\n하이큐!! 재능과 센스         9.178750\n코코                   9.172000\n사랑과 영혼               9.170000\n빠삐용                  9.170000\n내 사랑                 9.170000\n뽀로로 극장판 공룡섬 대모험      9.166500\n공범자들                 9.150000\n히트                   9.110000\n이터널 선샤인              9.100000\n러브레터                 9.095556\n물랑 루즈                9.090000\n이프 온리                9.080000\n번지 점프를 하다            9.010000",
            "text/html": "<div>\n<table border=\"1\" class=\"dataframe\">\n  <thead>\n    <tr style=\"text-align: right;\">\n      <th></th>\n      <th>point</th>\n    </tr>\n    <tr>\n      <th>name</th>\n      <th></th>\n    </tr>\n  </thead>\n  <tbody>\n    <tr>\n      <th>위대한 쇼맨</th>\n      <td>9.406000</td>\n    </tr>\n    <tr>\n      <th>원더</th>\n      <td>9.402000</td>\n    </tr>\n    <tr>\n      <th>다시 태어나도 우리</th>\n      <td>9.327895</td>\n    </tr>\n    <tr>\n      <th>로미오와 줄리엣</th>\n      <td>9.270000</td>\n    </tr>\n    <tr>\n      <th>1987</th>\n      <td>9.267500</td>\n    </tr>\n    <tr>\n      <th>킹 오브 프리즘 프라이드 더 히어로</th>\n      <td>9.196667</td>\n    </tr>\n    <tr>\n      <th>러빙 빈센트</th>\n      <td>9.181500</td>\n    </tr>\n    <tr>\n      <th>하이큐!! 재능과 센스</th>\n      <td>9.178750</td>\n    </tr>\n    <tr>\n      <th>코코</th>\n      <td>9.172000</td>\n    </tr>\n    <tr>\n      <th>사랑과 영혼</th>\n      <td>9.170000</td>\n    </tr>\n    <tr>\n      <th>빠삐용</th>\n      <td>9.170000</td>\n    </tr>\n    <tr>\n      <th>내 사랑</th>\n      <td>9.170000</td>\n    </tr>\n    <tr>\n      <th>뽀로로 극장판 공룡섬 대모험</th>\n      <td>9.166500</td>\n    </tr>\n    <tr>\n      <th>공범자들</th>\n      <td>9.150000</td>\n    </tr>\n    <tr>\n      <th>히트</th>\n      <td>9.110000</td>\n    </tr>\n    <tr>\n      <th>이터널 선샤인</th>\n      <td>9.100000</td>\n    </tr>\n    <tr>\n      <th>러브레터</th>\n      <td>9.095556</td>\n    </tr>\n    <tr>\n      <th>물랑 루즈</th>\n      <td>9.090000</td>\n    </tr>\n    <tr>\n      <th>이프 온리</th>\n      <td>9.080000</td>\n    </tr>\n    <tr>\n      <th>번지 점프를 하다</th>\n      <td>9.010000</td>\n    </tr>\n  </tbody>\n</table>\n</div>"
          },
          "metadata": {}
        }
      ]
    },
    {
      "metadata": {
        "trusted": true
      },
      "cell_type": "code",
      "source": "print(type(movie_best))\n#movie_best.info()\nmovie_best_names = movie_best.index.values\nprint(movie_best_names)",
      "execution_count": 36,
      "outputs": [
        {
          "output_type": "stream",
          "text": "<class 'pandas.core.frame.DataFrame'>\n['위대한 쇼맨' '원더' '다시 태어나도 우리' '로미오와 줄리엣' '1987' '킹 오브 프리즘 프라이드 더 히어로'\n '러빙 빈센트' '하이큐!! 재능과 센스' '코코' '사랑과 영혼' '빠삐용' '내 사랑' '뽀로로 극장판 공룡섬 대모험'\n '공범자들' '히트' '이터널 선샤인' '러브레터' '물랑 루즈' '이프 온리' '번지 점프를 하다' '러브 액츄얼리'\n '페르디난드' '안녕, 나의 소울메이트' '벤자민 버튼의 시간은 거꾸로 간다' '극장판 포켓몬스터 너로 정했다!' '아무도 모른다'\n '그렇게 아버지가 된다' '가장 따뜻한 색, 블루' '메이즈 러너: 데스 큐어' '그것만이 내 세상' '너의 이름은.'\n '바닷마을 다이어리' '캡틴 판타스틱' '맨체스터 바이 더 씨' '마미' '월터의 상상은 현실이 된다' '걸어도 걸어도'\n '몬스터 패밀리' '태풍이 지나가고' '라라랜드' '문영' '캐롤' '그녀' '강철비' '윈드 리버' '패터슨'\n '오리엔트 특급 살인' '메소드' '세 번째 살인' '쥬만지: 새로운 세계' '신과함께-죄와 벌' '너의 췌장을 먹고 싶어'\n '수면의 과학' '블레이드 러너 2049' '꾼' '쏘아올린 불꽃, 밑에서 볼까? 옆에서 볼까?' '튤립 피버' '직쏘'\n '메리와 마녀의 꽃' '어쌔신: 더 비기닝' '스타워즈: 라스트 제다이' '다운사이징'\n '주문은 토끼입니까?? ~디어 마이 시스터~']\n",
          "name": "stdout"
        }
      ]
    },
    {
      "metadata": {
        "scrolled": true,
        "trusted": true
      },
      "cell_type": "code",
      "source": "top_movie_name = movie_best_names[0]\ntmp = movie.query('name == [\"%s\"]' % top_movie_name)\ntmp",
      "execution_count": 37,
      "outputs": [
        {
          "output_type": "execute_result",
          "execution_count": 37,
          "data": {
            "text/plain": "          date    name  point\n1   2018-01-01  위대한 쇼맨   9.44\n40  2018-01-02  위대한 쇼맨   9.43\n79  2018-01-03  위대한 쇼맨   9.43\n109 2018-01-04  위대한 쇼맨   9.43\n140 2018-01-05  위대한 쇼맨   9.42\n172 2018-01-06  위대한 쇼맨   9.42\n206 2018-01-07  위대한 쇼맨   9.41\n240 2018-01-08  위대한 쇼맨   9.40\n275 2018-01-09  위대한 쇼맨   9.40\n312 2018-01-10  위대한 쇼맨   9.40\n343 2018-01-11  위대한 쇼맨   9.40\n377 2018-01-12  위대한 쇼맨   9.39\n414 2018-01-13  위대한 쇼맨   9.40\n451 2018-01-14  위대한 쇼맨   9.40\n487 2018-01-15  위대한 쇼맨   9.40\n522 2018-01-16  위대한 쇼맨   9.39\n559 2018-01-17  위대한 쇼맨   9.39\n596 2018-01-18  위대한 쇼맨   9.39\n631 2018-01-19  위대한 쇼맨   9.39\n669 2018-01-20  위대한 쇼맨   9.39",
            "text/html": "<div>\n<table border=\"1\" class=\"dataframe\">\n  <thead>\n    <tr style=\"text-align: right;\">\n      <th></th>\n      <th>date</th>\n      <th>name</th>\n      <th>point</th>\n    </tr>\n  </thead>\n  <tbody>\n    <tr>\n      <th>1</th>\n      <td>2018-01-01</td>\n      <td>위대한 쇼맨</td>\n      <td>9.44</td>\n    </tr>\n    <tr>\n      <th>40</th>\n      <td>2018-01-02</td>\n      <td>위대한 쇼맨</td>\n      <td>9.43</td>\n    </tr>\n    <tr>\n      <th>79</th>\n      <td>2018-01-03</td>\n      <td>위대한 쇼맨</td>\n      <td>9.43</td>\n    </tr>\n    <tr>\n      <th>109</th>\n      <td>2018-01-04</td>\n      <td>위대한 쇼맨</td>\n      <td>9.43</td>\n    </tr>\n    <tr>\n      <th>140</th>\n      <td>2018-01-05</td>\n      <td>위대한 쇼맨</td>\n      <td>9.42</td>\n    </tr>\n    <tr>\n      <th>172</th>\n      <td>2018-01-06</td>\n      <td>위대한 쇼맨</td>\n      <td>9.42</td>\n    </tr>\n    <tr>\n      <th>206</th>\n      <td>2018-01-07</td>\n      <td>위대한 쇼맨</td>\n      <td>9.41</td>\n    </tr>\n    <tr>\n      <th>240</th>\n      <td>2018-01-08</td>\n      <td>위대한 쇼맨</td>\n      <td>9.40</td>\n    </tr>\n    <tr>\n      <th>275</th>\n      <td>2018-01-09</td>\n      <td>위대한 쇼맨</td>\n      <td>9.40</td>\n    </tr>\n    <tr>\n      <th>312</th>\n      <td>2018-01-10</td>\n      <td>위대한 쇼맨</td>\n      <td>9.40</td>\n    </tr>\n    <tr>\n      <th>343</th>\n      <td>2018-01-11</td>\n      <td>위대한 쇼맨</td>\n      <td>9.40</td>\n    </tr>\n    <tr>\n      <th>377</th>\n      <td>2018-01-12</td>\n      <td>위대한 쇼맨</td>\n      <td>9.39</td>\n    </tr>\n    <tr>\n      <th>414</th>\n      <td>2018-01-13</td>\n      <td>위대한 쇼맨</td>\n      <td>9.40</td>\n    </tr>\n    <tr>\n      <th>451</th>\n      <td>2018-01-14</td>\n      <td>위대한 쇼맨</td>\n      <td>9.40</td>\n    </tr>\n    <tr>\n      <th>487</th>\n      <td>2018-01-15</td>\n      <td>위대한 쇼맨</td>\n      <td>9.40</td>\n    </tr>\n    <tr>\n      <th>522</th>\n      <td>2018-01-16</td>\n      <td>위대한 쇼맨</td>\n      <td>9.39</td>\n    </tr>\n    <tr>\n      <th>559</th>\n      <td>2018-01-17</td>\n      <td>위대한 쇼맨</td>\n      <td>9.39</td>\n    </tr>\n    <tr>\n      <th>596</th>\n      <td>2018-01-18</td>\n      <td>위대한 쇼맨</td>\n      <td>9.39</td>\n    </tr>\n    <tr>\n      <th>631</th>\n      <td>2018-01-19</td>\n      <td>위대한 쇼맨</td>\n      <td>9.39</td>\n    </tr>\n    <tr>\n      <th>669</th>\n      <td>2018-01-20</td>\n      <td>위대한 쇼맨</td>\n      <td>9.39</td>\n    </tr>\n  </tbody>\n</table>\n</div>"
          },
          "metadata": {}
        }
      ]
    },
    {
      "metadata": {
        "trusted": true
      },
      "cell_type": "code",
      "source": "import matplotlib.pyplot as plt\n%matplotlib inline\n\nplt.figure(figsize=(12,8))\nplt.plot(tmp['date'], tmp['point'])\nplt.legend(loc='best')\nplt.grid()\nplt.show()",
      "execution_count": 50,
      "outputs": [
        {
          "output_type": "display_data",
          "data": {
            "image/png": "[encoded data removed]",
            "text/plain": "<matplotlib.figure.Figure at 0x7f2c3e7e2dd8>"
          },
          "metadata": {}
        }
      ]
    },
    {
      "metadata": {
        "trusted": true
      },
      "cell_type": "code",
      "source": "movie_best.head(10)",
      "execution_count": 51,
      "outputs": [
        {
          "output_type": "execute_result",
          "execution_count": 51,
          "data": {
            "text/plain": "                        point\nname                         \n위대한 쇼맨               9.406000\n원더                   9.402000\n다시 태어나도 우리           9.327895\n로미오와 줄리엣             9.270000\n1987                 9.267500\n킹 오브 프리즘 프라이드 더 히어로  9.196667\n러빙 빈센트               9.181500\n하이큐!! 재능과 센스         9.178750\n코코                   9.172000\n사랑과 영혼               9.170000",
            "text/html": "<div>\n<table border=\"1\" class=\"dataframe\">\n  <thead>\n    <tr style=\"text-align: right;\">\n      <th></th>\n      <th>point</th>\n    </tr>\n    <tr>\n      <th>name</th>\n      <th></th>\n    </tr>\n  </thead>\n  <tbody>\n    <tr>\n      <th>위대한 쇼맨</th>\n      <td>9.406000</td>\n    </tr>\n    <tr>\n      <th>원더</th>\n      <td>9.402000</td>\n    </tr>\n    <tr>\n      <th>다시 태어나도 우리</th>\n      <td>9.327895</td>\n    </tr>\n    <tr>\n      <th>로미오와 줄리엣</th>\n      <td>9.270000</td>\n    </tr>\n    <tr>\n      <th>1987</th>\n      <td>9.267500</td>\n    </tr>\n    <tr>\n      <th>킹 오브 프리즘 프라이드 더 히어로</th>\n      <td>9.196667</td>\n    </tr>\n    <tr>\n      <th>러빙 빈센트</th>\n      <td>9.181500</td>\n    </tr>\n    <tr>\n      <th>하이큐!! 재능과 센스</th>\n      <td>9.178750</td>\n    </tr>\n    <tr>\n      <th>코코</th>\n      <td>9.172000</td>\n    </tr>\n    <tr>\n      <th>사랑과 영혼</th>\n      <td>9.170000</td>\n    </tr>\n  </tbody>\n</table>\n</div>"
          },
          "metadata": {}
        }
      ]
    },
    {
      "metadata": {},
      "cell_type": "markdown",
      "source": "## 영화별 날짜 변화에 따른 평점 변화 확인하기"
    },
    {
      "metadata": {
        "trusted": true
      },
      "cell_type": "code",
      "source": "movie_pivot = pd.pivot_table(movie, index=[\"date\"], columns=['name'], \n                                         values=['point'])\nmovie_pivot",
      "execution_count": 52,
      "outputs": [
        {
          "output_type": "execute_result",
          "execution_count": 52,
          "data": {
            "text/plain": "           point                                                              \\\nname        1987 가장 따뜻한 색, 블루   강철비 걸어도 걸어도  공범자들 그것만이 내 세상   그녀 그렇게 아버지가 된다   \ndate                                                                           \n2018-01-01  9.25         8.82  8.48    8.64   NaN       NaN  8.5        8.82   \n2018-01-02  9.26         8.82  8.49    8.64   NaN       NaN  8.5        8.82   \n2018-01-03  9.25         8.82  8.49     NaN   NaN       NaN  8.5        8.82   \n2018-01-04  9.25         8.82  8.49     NaN   NaN       NaN  8.5        8.82   \n2018-01-05  9.26         8.82  8.49     NaN   NaN       NaN  8.5        8.82   \n2018-01-06  9.27         8.81  8.50     NaN   NaN       NaN  8.5        8.82   \n2018-01-07  9.27         8.81  8.50     NaN   NaN       NaN  8.5        8.82   \n2018-01-08  9.28         8.81  8.50     NaN   NaN       NaN  8.5        8.82   \n2018-01-09  9.27         8.81  8.50     NaN   NaN       NaN  8.5        8.82   \n2018-01-10  9.28         8.81  8.50     NaN   NaN       NaN  8.5         NaN   \n2018-01-11  9.28         8.81  8.50     NaN   NaN       NaN  8.5         NaN   \n2018-01-12  9.27         8.81  8.50     NaN   NaN       NaN  8.5         NaN   \n2018-01-13  9.27         8.81  8.50     NaN   NaN       NaN  8.5         NaN   \n2018-01-14  9.27         8.81  8.50     NaN   NaN       NaN  8.5         NaN   \n2018-01-15  9.27         8.81  8.50     NaN   NaN       NaN  8.5         NaN   \n2018-01-16  9.27         8.81  8.50     NaN   NaN       NaN  8.5         NaN   \n2018-01-17  9.27          NaN  8.48     NaN   NaN      8.72  8.5         NaN   \n2018-01-18  9.27          NaN  8.47     NaN   NaN      8.72  8.5         NaN   \n2018-01-19  9.27          NaN  8.46     NaN  9.15      8.82  8.5         NaN   \n2018-01-20  9.27          NaN  8.45     NaN  9.15      8.92  8.5         NaN   \n\n                                    ...                       \\\nname       극장판 포켓몬스터 너로 정했다!     꾼  ...     캐롤 캡틴 판타스틱    코코   \ndate                                ...                        \n2018-01-01              8.98  7.75  ...   8.53     NaN   NaN   \n2018-01-02              8.92  7.75  ...   8.53     NaN   NaN   \n2018-01-03              8.92  7.75  ...    NaN     NaN   NaN   \n2018-01-04              8.92  7.74  ...    NaN     NaN   NaN   \n2018-01-05              8.90  7.74  ...    NaN    8.73   NaN   \n2018-01-06              8.86  7.73  ...    NaN    8.73   NaN   \n2018-01-07              8.86  7.72  ...    NaN    8.73   NaN   \n2018-01-08              8.84  7.72  ...    NaN    8.70   NaN   \n2018-01-09              8.84   NaN  ...    NaN    8.70   NaN   \n2018-01-10              8.84   NaN  ...    NaN     NaN   NaN   \n2018-01-11              8.84   NaN  ...    NaN     NaN  9.30   \n2018-01-12              8.84   NaN  ...    NaN     NaN  9.24   \n2018-01-13              8.84   NaN  ...    NaN     NaN  9.20   \n2018-01-14              8.84   NaN  ...    NaN     NaN  9.16   \n2018-01-15              8.84   NaN  ...    NaN     NaN  9.15   \n2018-01-16              8.84   NaN  ...    NaN     NaN  9.15   \n2018-01-17              8.84   NaN  ...    NaN     NaN  9.13   \n2018-01-18              8.84   NaN  ...    NaN     NaN  9.13   \n2018-01-19              8.84   NaN  ...    NaN     NaN  9.13   \n2018-01-20              8.85   NaN  ...    NaN     NaN  9.13   \n\n                                                                              \nname       킹 오브 프리즘 프라이드 더 히어로 태풍이 지나가고 튤립 피버   패터슨 페르디난드 하이큐!! 재능과 센스    히트  \ndate                                                                          \n2018-01-01                 NaN      8.6   NaN  8.28   NaN          NaN  9.11  \n2018-01-02                 NaN      8.6   NaN  8.32   NaN          NaN  9.11  \n2018-01-03                 NaN      NaN   NaN  8.30   NaN          NaN  9.11  \n2018-01-04                 NaN      NaN   NaN  8.29   NaN          NaN  9.11  \n2018-01-05                 NaN      NaN   NaN  8.29   NaN          NaN  9.11  \n2018-01-06                 NaN      NaN   NaN  8.29   NaN          NaN  9.11  \n2018-01-07                 NaN      NaN   NaN  8.32   NaN          NaN  9.11  \n2018-01-08                 NaN      NaN   NaN  8.30  8.85          NaN  9.11  \n2018-01-09                 NaN      NaN   NaN  8.29  8.91         9.18  9.11  \n2018-01-10                 NaN      NaN   NaN  8.29  8.91          NaN  9.11  \n2018-01-11                 NaN      NaN   NaN  8.29  8.89          NaN  9.11  \n2018-01-12                9.20      NaN   NaN  8.29  8.89          NaN  9.11  \n2018-01-13                9.20      NaN   NaN  8.32  8.93         9.17  9.11  \n2018-01-14                9.19      NaN   NaN  8.30  8.92          NaN  9.11  \n2018-01-15                 NaN      NaN   NaN  8.30  8.93         9.18  9.11  \n2018-01-16                 NaN      NaN   NaN  8.31  8.92         9.18  9.11  \n2018-01-17                 NaN      NaN   NaN  8.32  8.91         9.18  9.11  \n2018-01-18                 NaN      NaN   NaN  8.31  8.93         9.18  9.11  \n2018-01-19                 NaN      NaN  7.52  8.30  8.93         9.18  9.11  \n2018-01-20                 NaN      NaN  7.51  8.32  8.92         9.18  9.11  \n\n[20 rows x 63 columns]",
            "text/html": "<div>\n<table border=\"1\" class=\"dataframe\">\n  <thead>\n    <tr>\n      <th></th>\n      <th colspan=\"21\" halign=\"left\">point</th>\n    </tr>\n    <tr>\n      <th>name</th>\n      <th>1987</th>\n      <th>가장 따뜻한 색, 블루</th>\n      <th>강철비</th>\n      <th>걸어도 걸어도</th>\n      <th>공범자들</th>\n      <th>그것만이 내 세상</th>\n      <th>그녀</th>\n      <th>그렇게 아버지가 된다</th>\n      <th>극장판 포켓몬스터 너로 정했다!</th>\n      <th>꾼</th>\n      <th>...</th>\n      <th>캐롤</th>\n      <th>캡틴 판타스틱</th>\n      <th>코코</th>\n      <th>킹 오브 프리즘 프라이드 더 히어로</th>\n      <th>태풍이 지나가고</th>\n      <th>튤립 피버</th>\n      <th>패터슨</th>\n      <th>페르디난드</th>\n      <th>하이큐!! 재능과 센스</th>\n      <th>히트</th>\n    </tr>\n    <tr>\n      <th>date</th>\n      <th></th>\n      <th></th>\n      <th></th>\n      <th></th>\n      <th></th>\n      <th></th>\n      <th></th>\n      <th></th>\n      <th></th>\n      <th></th>\n      <th></th>\n      <th></th>\n      <th></th>\n      <th></th>\n      <th></th>\n      <th></th>\n      <th></th>\n      <th></th>\n      <th></th>\n      <th></th>\n      <th></th>\n    </tr>\n  </thead>\n  <tbody>\n    <tr>\n      <th>2018-01-01</th>\n      <td>9.25</td>\n      <td>8.82</td>\n      <td>8.48</td>\n      <td>8.64</td>\n      <td>NaN</td>\n      <td>NaN</td>\n      <td>8.5</td>\n      <td>8.82</td>\n      <td>8.98</td>\n      <td>7.75</td>\n      <td>...</td>\n      <td>8.53</td>\n      <td>NaN</td>\n      <td>NaN</td>\n      <td>NaN</td>\n      <td>8.6</td>\n      <td>NaN</td>\n      <td>8.28</td>\n      <td>NaN</td>\n      <td>NaN</td>\n      <td>9.11</td>\n    </tr>\n    <tr>\n      <th>2018-01-02</th>\n      <td>9.26</td>\n      <td>8.82</td>\n      <td>8.49</td>\n      <td>8.64</td>\n      <td>NaN</td>\n      <td>NaN</td>\n      <td>8.5</td>\n      <td>8.82</td>\n      <td>8.92</td>\n      <td>7.75</td>\n      <td>...</td>\n      <td>8.53</td>\n      <td>NaN</td>\n      <td>NaN</td>\n      <td>NaN</td>\n      <td>8.6</td>\n      <td>NaN</td>\n      <td>8.32</td>\n      <td>NaN</td>\n      <td>NaN</td>\n      <td>9.11</td>\n    </tr>\n    <tr>\n      <th>2018-01-03</th>\n      <td>9.25</td>\n      <td>8.82</td>\n      <td>8.49</td>\n      <td>NaN</td>\n      <td>NaN</td>\n      <td>NaN</td>\n      <td>8.5</td>\n      <td>8.82</td>\n      <td>8.92</td>\n      <td>7.75</td>\n      <td>...</td>\n      <td>NaN</td>\n      <td>NaN</td>\n      <td>NaN</td>\n      <td>NaN</td>\n      <td>NaN</td>\n      <td>NaN</td>\n      <td>8.30</td>\n      <td>NaN</td>\n      <td>NaN</td>\n      <td>9.11</td>\n    </tr>\n    <tr>\n      <th>2018-01-04</th>\n      <td>9.25</td>\n      <td>8.82</td>\n      <td>8.49</td>\n      <td>NaN</td>\n      <td>NaN</td>\n      <td>NaN</td>\n      <td>8.5</td>\n      <td>8.82</td>\n      <td>8.92</td>\n      <td>7.74</td>\n      <td>...</td>\n      <td>NaN</td>\n      <td>NaN</td>\n      <td>NaN</td>\n      <td>NaN</td>\n      <td>NaN</td>\n      <td>NaN</td>\n      <td>8.29</td>\n      <td>NaN</td>\n      <td>NaN</td>\n      <td>9.11</td>\n    </tr>\n    <tr>\n      <th>2018-01-05</th>\n      <td>9.26</td>\n      <td>8.82</td>\n      <td>8.49</td>\n      <td>NaN</td>\n      <td>NaN</td>\n      <td>NaN</td>\n      <td>8.5</td>\n      <td>8.82</td>\n      <td>8.90</td>\n      <td>7.74</td>\n      <td>...</td>\n      <td>NaN</td>\n      <td>8.73</td>\n      <td>NaN</td>\n      <td>NaN</td>\n      <td>NaN</td>\n      <td>NaN</td>\n      <td>8.29</td>\n      <td>NaN</td>\n      <td>NaN</td>\n      <td>9.11</td>\n    </tr>\n    <tr>\n      <th>2018-01-06</th>\n      <td>9.27</td>\n      <td>8.81</td>\n      <td>8.50</td>\n      <td>NaN</td>\n      <td>NaN</td>\n      <td>NaN</td>\n      <td>8.5</td>\n      <td>8.82</td>\n      <td>8.86</td>\n      <td>7.73</td>\n      <td>...</td>\n      <td>NaN</td>\n      <td>8.73</td>\n      <td>NaN</td>\n      <td>NaN</td>\n      <td>NaN</td>\n      <td>NaN</td>\n      <td>8.29</td>\n      <td>NaN</td>\n      <td>NaN</td>\n      <td>9.11</td>\n    </tr>\n    <tr>\n      <th>2018-01-07</th>\n      <td>9.27</td>\n      <td>8.81</td>\n      <td>8.50</td>\n      <td>NaN</td>\n      <td>NaN</td>\n      <td>NaN</td>\n      <td>8.5</td>\n      <td>8.82</td>\n      <td>8.86</td>\n      <td>7.72</td>\n      <td>...</td>\n      <td>NaN</td>\n      <td>8.73</td>\n      <td>NaN</td>\n      <td>NaN</td>\n      <td>NaN</td>\n      <td>NaN</td>\n      <td>8.32</td>\n      <td>NaN</td>\n      <td>NaN</td>\n      <td>9.11</td>\n    </tr>\n    <tr>\n      <th>2018-01-08</th>\n      <td>9.28</td>\n      <td>8.81</td>\n      <td>8.50</td>\n      <td>NaN</td>\n      <td>NaN</td>\n      <td>NaN</td>\n      <td>8.5</td>\n      <td>8.82</td>\n      <td>8.84</td>\n      <td>7.72</td>\n      <td>...</td>\n      <td>NaN</td>\n      <td>8.70</td>\n      <td>NaN</td>\n      <td>NaN</td>\n      <td>NaN</td>\n      <td>NaN</td>\n      <td>8.30</td>\n      <td>8.85</td>\n      <td>NaN</td>\n      <td>9.11</td>\n    </tr>\n    <tr>\n      <th>2018-01-09</th>\n      <td>9.27</td>\n      <td>8.81</td>\n      <td>8.50</td>\n      <td>NaN</td>\n      <td>NaN</td>\n      <td>NaN</td>\n      <td>8.5</td>\n      <td>8.82</td>\n      <td>8.84</td>\n      <td>NaN</td>\n      <td>...</td>\n      <td>NaN</td>\n      <td>8.70</td>\n      <td>NaN</td>\n      <td>NaN</td>\n      <td>NaN</td>\n      <td>NaN</td>\n      <td>8.29</td>\n      <td>8.91</td>\n      <td>9.18</td>\n      <td>9.11</td>\n    </tr>\n    <tr>\n      <th>2018-01-10</th>\n      <td>9.28</td>\n      <td>8.81</td>\n      <td>8.50</td>\n      <td>NaN</td>\n      <td>NaN</td>\n      <td>NaN</td>\n      <td>8.5</td>\n      <td>NaN</td>\n      <td>8.84</td>\n      <td>NaN</td>\n      <td>...</td>\n      <td>NaN</td>\n      <td>NaN</td>\n      <td>NaN</td>\n      <td>NaN</td>\n      <td>NaN</td>\n      <td>NaN</td>\n      <td>8.29</td>\n      <td>8.91</td>\n      <td>NaN</td>\n      <td>9.11</td>\n    </tr>\n    <tr>\n      <th>2018-01-11</th>\n      <td>9.28</td>\n      <td>8.81</td>\n      <td>8.50</td>\n      <td>NaN</td>\n      <td>NaN</td>\n      <td>NaN</td>\n      <td>8.5</td>\n      <td>NaN</td>\n      <td>8.84</td>\n      <td>NaN</td>\n      <td>...</td>\n      <td>NaN</td>\n      <td>NaN</td>\n      <td>9.30</td>\n      <td>NaN</td>\n      <td>NaN</td>\n      <td>NaN</td>\n      <td>8.29</td>\n      <td>8.89</td>\n      <td>NaN</td>\n      <td>9.11</td>\n    </tr>\n    <tr>\n      <th>2018-01-12</th>\n      <td>9.27</td>\n      <td>8.81</td>\n      <td>8.50</td>\n      <td>NaN</td>\n      <td>NaN</td>\n      <td>NaN</td>\n      <td>8.5</td>\n      <td>NaN</td>\n      <td>8.84</td>\n      <td>NaN</td>\n      <td>...</td>\n      <td>NaN</td>\n      <td>NaN</td>\n      <td>9.24</td>\n      <td>9.20</td>\n      <td>NaN</td>\n      <td>NaN</td>\n      <td>8.29</td>\n      <td>8.89</td>\n      <td>NaN</td>\n      <td>9.11</td>\n    </tr>\n    <tr>\n      <th>2018-01-13</th>\n      <td>9.27</td>\n      <td>8.81</td>\n      <td>8.50</td>\n      <td>NaN</td>\n      <td>NaN</td>\n      <td>NaN</td>\n      <td>8.5</td>\n      <td>NaN</td>\n      <td>8.84</td>\n      <td>NaN</td>\n      <td>...</td>\n      <td>NaN</td>\n      <td>NaN</td>\n      <td>9.20</td>\n      <td>9.20</td>\n      <td>NaN</td>\n      <td>NaN</td>\n      <td>8.32</td>\n      <td>8.93</td>\n      <td>9.17</td>\n      <td>9.11</td>\n    </tr>\n    <tr>\n      <th>2018-01-14</th>\n      <td>9.27</td>\n      <td>8.81</td>\n      <td>8.50</td>\n      <td>NaN</td>\n      <td>NaN</td>\n      <td>NaN</td>\n      <td>8.5</td>\n      <td>NaN</td>\n      <td>8.84</td>\n      <td>NaN</td>\n      <td>...</td>\n      <td>NaN</td>\n      <td>NaN</td>\n      <td>9.16</td>\n      <td>9.19</td>\n      <td>NaN</td>\n      <td>NaN</td>\n      <td>8.30</td>\n      <td>8.92</td>\n      <td>NaN</td>\n      <td>9.11</td>\n    </tr>\n    <tr>\n      <th>2018-01-15</th>\n      <td>9.27</td>\n      <td>8.81</td>\n      <td>8.50</td>\n      <td>NaN</td>\n      <td>NaN</td>\n      <td>NaN</td>\n      <td>8.5</td>\n      <td>NaN</td>\n      <td>8.84</td>\n      <td>NaN</td>\n      <td>...</td>\n      <td>NaN</td>\n      <td>NaN</td>\n      <td>9.15</td>\n      <td>NaN</td>\n      <td>NaN</td>\n      <td>NaN</td>\n      <td>8.30</td>\n      <td>8.93</td>\n      <td>9.18</td>\n      <td>9.11</td>\n    </tr>\n    <tr>\n      <th>2018-01-16</th>\n      <td>9.27</td>\n      <td>8.81</td>\n      <td>8.50</td>\n      <td>NaN</td>\n      <td>NaN</td>\n      <td>NaN</td>\n      <td>8.5</td>\n      <td>NaN</td>\n      <td>8.84</td>\n      <td>NaN</td>\n      <td>...</td>\n      <td>NaN</td>\n      <td>NaN</td>\n      <td>9.15</td>\n      <td>NaN</td>\n      <td>NaN</td>\n      <td>NaN</td>\n      <td>8.31</td>\n      <td>8.92</td>\n      <td>9.18</td>\n      <td>9.11</td>\n    </tr>\n    <tr>\n      <th>2018-01-17</th>\n      <td>9.27</td>\n      <td>NaN</td>\n      <td>8.48</td>\n      <td>NaN</td>\n      <td>NaN</td>\n      <td>8.72</td>\n      <td>8.5</td>\n      <td>NaN</td>\n      <td>8.84</td>\n      <td>NaN</td>\n      <td>...</td>\n      <td>NaN</td>\n      <td>NaN</td>\n      <td>9.13</td>\n      <td>NaN</td>\n      <td>NaN</td>\n      <td>NaN</td>\n      <td>8.32</td>\n      <td>8.91</td>\n      <td>9.18</td>\n      <td>9.11</td>\n    </tr>\n    <tr>\n      <th>2018-01-18</th>\n      <td>9.27</td>\n      <td>NaN</td>\n      <td>8.47</td>\n      <td>NaN</td>\n      <td>NaN</td>\n      <td>8.72</td>\n      <td>8.5</td>\n      <td>NaN</td>\n      <td>8.84</td>\n      <td>NaN</td>\n      <td>...</td>\n      <td>NaN</td>\n      <td>NaN</td>\n      <td>9.13</td>\n      <td>NaN</td>\n      <td>NaN</td>\n      <td>NaN</td>\n      <td>8.31</td>\n      <td>8.93</td>\n      <td>9.18</td>\n      <td>9.11</td>\n    </tr>\n    <tr>\n      <th>2018-01-19</th>\n      <td>9.27</td>\n      <td>NaN</td>\n      <td>8.46</td>\n      <td>NaN</td>\n      <td>9.15</td>\n      <td>8.82</td>\n      <td>8.5</td>\n      <td>NaN</td>\n      <td>8.84</td>\n      <td>NaN</td>\n      <td>...</td>\n      <td>NaN</td>\n      <td>NaN</td>\n      <td>9.13</td>\n      <td>NaN</td>\n      <td>NaN</td>\n      <td>7.52</td>\n      <td>8.30</td>\n      <td>8.93</td>\n      <td>9.18</td>\n      <td>9.11</td>\n    </tr>\n    <tr>\n      <th>2018-01-20</th>\n      <td>9.27</td>\n      <td>NaN</td>\n      <td>8.45</td>\n      <td>NaN</td>\n      <td>9.15</td>\n      <td>8.92</td>\n      <td>8.5</td>\n      <td>NaN</td>\n      <td>8.85</td>\n      <td>NaN</td>\n      <td>...</td>\n      <td>NaN</td>\n      <td>NaN</td>\n      <td>9.13</td>\n      <td>NaN</td>\n      <td>NaN</td>\n      <td>7.51</td>\n      <td>8.32</td>\n      <td>8.92</td>\n      <td>9.18</td>\n      <td>9.11</td>\n    </tr>\n  </tbody>\n</table>\n<p>20 rows × 63 columns</p>\n</div>"
          },
          "metadata": {}
        }
      ]
    },
    {
      "metadata": {
        "scrolled": true,
        "trusted": true
      },
      "cell_type": "code",
      "source": "#movie_pivot.columns = movie_pivot.columns.droplevel()\nmovie_pivot2 = movie_pivot[movie_best_names[:10]]",
      "execution_count": 53,
      "outputs": [
        {
          "output_type": "error",
          "ename": "KeyError",
          "evalue": "\"['위대한 쇼맨' '원더' '다시 태어나도 우리' '로미오와 줄리엣' '1987' '킹 오브 프리즘 프라이드 더 히어로'\\n '러빙 빈센트' '하이큐!! 재능과 센스' '코코' '사랑과 영혼'] not in index\"",
          "traceback": [
            "\u001b[0;31m---------------------------------------------------------------------------\u001b[0m",
            "\u001b[0;31mKeyError\u001b[0m                                  Traceback (most recent call last)",
            "\u001b[0;32m<ipython-input-53-a4cafc11a971>\u001b[0m in \u001b[0;36m<module>\u001b[0;34m()\u001b[0m\n\u001b[1;32m      1\u001b[0m \u001b[0;31m#movie_pivot.columns = movie_pivot.columns.droplevel()\u001b[0m\u001b[0;34m\u001b[0m\u001b[0;34m\u001b[0m\u001b[0m\n\u001b[0;32m----> 2\u001b[0;31m \u001b[0mmovie_pivot2\u001b[0m \u001b[0;34m=\u001b[0m \u001b[0mmovie_pivot\u001b[0m\u001b[0;34m[\u001b[0m\u001b[0mmovie_best_names\u001b[0m\u001b[0;34m[\u001b[0m\u001b[0;34m:\u001b[0m\u001b[0;36m10\u001b[0m\u001b[0;34m]\u001b[0m\u001b[0;34m]\u001b[0m\u001b[0;34m\u001b[0m\u001b[0m\n\u001b[0m",
            "\u001b[0;32m~/anaconda3_420/lib/python3.5/site-packages/pandas/core/frame.py\u001b[0m in \u001b[0;36m__getitem__\u001b[0;34m(self, key)\u001b[0m\n\u001b[1;32m   2051\u001b[0m         \u001b[0;32mif\u001b[0m \u001b[0misinstance\u001b[0m\u001b[0;34m(\u001b[0m\u001b[0mkey\u001b[0m\u001b[0;34m,\u001b[0m \u001b[0;34m(\u001b[0m\u001b[0mSeries\u001b[0m\u001b[0;34m,\u001b[0m \u001b[0mnp\u001b[0m\u001b[0;34m.\u001b[0m\u001b[0mndarray\u001b[0m\u001b[0;34m,\u001b[0m \u001b[0mIndex\u001b[0m\u001b[0;34m,\u001b[0m \u001b[0mlist\u001b[0m\u001b[0;34m)\u001b[0m\u001b[0;34m)\u001b[0m\u001b[0;34m:\u001b[0m\u001b[0;34m\u001b[0m\u001b[0m\n\u001b[1;32m   2052\u001b[0m             \u001b[0;31m# either boolean or fancy integer index\u001b[0m\u001b[0;34m\u001b[0m\u001b[0;34m\u001b[0m\u001b[0m\n\u001b[0;32m-> 2053\u001b[0;31m             \u001b[0;32mreturn\u001b[0m \u001b[0mself\u001b[0m\u001b[0;34m.\u001b[0m\u001b[0m_getitem_array\u001b[0m\u001b[0;34m(\u001b[0m\u001b[0mkey\u001b[0m\u001b[0;34m)\u001b[0m\u001b[0;34m\u001b[0m\u001b[0m\n\u001b[0m\u001b[1;32m   2054\u001b[0m         \u001b[0;32melif\u001b[0m \u001b[0misinstance\u001b[0m\u001b[0;34m(\u001b[0m\u001b[0mkey\u001b[0m\u001b[0;34m,\u001b[0m \u001b[0mDataFrame\u001b[0m\u001b[0;34m)\u001b[0m\u001b[0;34m:\u001b[0m\u001b[0;34m\u001b[0m\u001b[0m\n\u001b[1;32m   2055\u001b[0m             \u001b[0;32mreturn\u001b[0m \u001b[0mself\u001b[0m\u001b[0;34m.\u001b[0m\u001b[0m_getitem_frame\u001b[0m\u001b[0;34m(\u001b[0m\u001b[0mkey\u001b[0m\u001b[0;34m)\u001b[0m\u001b[0;34m\u001b[0m\u001b[0m\n",
            "\u001b[0;32m~/anaconda3_420/lib/python3.5/site-packages/pandas/core/frame.py\u001b[0m in \u001b[0;36m_getitem_array\u001b[0;34m(self, key)\u001b[0m\n\u001b[1;32m   2095\u001b[0m             \u001b[0;32mreturn\u001b[0m \u001b[0mself\u001b[0m\u001b[0;34m.\u001b[0m\u001b[0mtake\u001b[0m\u001b[0;34m(\u001b[0m\u001b[0mindexer\u001b[0m\u001b[0;34m,\u001b[0m \u001b[0maxis\u001b[0m\u001b[0;34m=\u001b[0m\u001b[0;36m0\u001b[0m\u001b[0;34m,\u001b[0m \u001b[0mconvert\u001b[0m\u001b[0;34m=\u001b[0m\u001b[0;32mFalse\u001b[0m\u001b[0;34m)\u001b[0m\u001b[0;34m\u001b[0m\u001b[0m\n\u001b[1;32m   2096\u001b[0m         \u001b[0;32melse\u001b[0m\u001b[0;34m:\u001b[0m\u001b[0;34m\u001b[0m\u001b[0m\n\u001b[0;32m-> 2097\u001b[0;31m             \u001b[0mindexer\u001b[0m \u001b[0;34m=\u001b[0m \u001b[0mself\u001b[0m\u001b[0;34m.\u001b[0m\u001b[0mix\u001b[0m\u001b[0;34m.\u001b[0m\u001b[0m_convert_to_indexer\u001b[0m\u001b[0;34m(\u001b[0m\u001b[0mkey\u001b[0m\u001b[0;34m,\u001b[0m \u001b[0maxis\u001b[0m\u001b[0;34m=\u001b[0m\u001b[0;36m1\u001b[0m\u001b[0;34m)\u001b[0m\u001b[0;34m\u001b[0m\u001b[0m\n\u001b[0m\u001b[1;32m   2098\u001b[0m             \u001b[0;32mreturn\u001b[0m \u001b[0mself\u001b[0m\u001b[0;34m.\u001b[0m\u001b[0mtake\u001b[0m\u001b[0;34m(\u001b[0m\u001b[0mindexer\u001b[0m\u001b[0;34m,\u001b[0m \u001b[0maxis\u001b[0m\u001b[0;34m=\u001b[0m\u001b[0;36m1\u001b[0m\u001b[0;34m,\u001b[0m \u001b[0mconvert\u001b[0m\u001b[0;34m=\u001b[0m\u001b[0;32mTrue\u001b[0m\u001b[0;34m)\u001b[0m\u001b[0;34m\u001b[0m\u001b[0m\n\u001b[1;32m   2099\u001b[0m \u001b[0;34m\u001b[0m\u001b[0m\n",
            "\u001b[0;32m~/anaconda3_420/lib/python3.5/site-packages/pandas/core/indexing.py\u001b[0m in \u001b[0;36m_convert_to_indexer\u001b[0;34m(self, obj, axis, is_setter)\u001b[0m\n\u001b[1;32m   1228\u001b[0m                 \u001b[0mmask\u001b[0m \u001b[0;34m=\u001b[0m \u001b[0mcheck\u001b[0m \u001b[0;34m==\u001b[0m \u001b[0;34m-\u001b[0m\u001b[0;36m1\u001b[0m\u001b[0;34m\u001b[0m\u001b[0m\n\u001b[1;32m   1229\u001b[0m                 \u001b[0;32mif\u001b[0m \u001b[0mmask\u001b[0m\u001b[0;34m.\u001b[0m\u001b[0many\u001b[0m\u001b[0;34m(\u001b[0m\u001b[0;34m)\u001b[0m\u001b[0;34m:\u001b[0m\u001b[0;34m\u001b[0m\u001b[0m\n\u001b[0;32m-> 1230\u001b[0;31m                     \u001b[0;32mraise\u001b[0m \u001b[0mKeyError\u001b[0m\u001b[0;34m(\u001b[0m\u001b[0;34m'%s not in index'\u001b[0m \u001b[0;34m%\u001b[0m \u001b[0mobjarr\u001b[0m\u001b[0;34m[\u001b[0m\u001b[0mmask\u001b[0m\u001b[0;34m]\u001b[0m\u001b[0;34m)\u001b[0m\u001b[0;34m\u001b[0m\u001b[0m\n\u001b[0m\u001b[1;32m   1231\u001b[0m \u001b[0;34m\u001b[0m\u001b[0m\n\u001b[1;32m   1232\u001b[0m                 \u001b[0;32mreturn\u001b[0m \u001b[0m_values_from_object\u001b[0m\u001b[0;34m(\u001b[0m\u001b[0mindexer\u001b[0m\u001b[0;34m)\u001b[0m\u001b[0;34m\u001b[0m\u001b[0m\n",
            "\u001b[0;31mKeyError\u001b[0m: \"['위대한 쇼맨' '원더' '다시 태어나도 우리' '로미오와 줄리엣' '1987' '킹 오브 프리즘 프라이드 더 히어로'\\n '러빙 빈센트' '하이큐!! 재능과 센스' '코코' '사랑과 영혼'] not in index\""
          ]
        }
      ]
    },
    {
      "metadata": {
        "trusted": true
      },
      "cell_type": "code",
      "source": "movie_pivot2",
      "execution_count": 54,
      "outputs": [
        {
          "output_type": "error",
          "ename": "NameError",
          "evalue": "name 'movie_pivot2' is not defined",
          "traceback": [
            "\u001b[0;31m---------------------------------------------------------------------------\u001b[0m",
            "\u001b[0;31mNameError\u001b[0m                                 Traceback (most recent call last)",
            "\u001b[0;32m<ipython-input-54-d695b1babef1>\u001b[0m in \u001b[0;36m<module>\u001b[0;34m()\u001b[0m\n\u001b[0;32m----> 1\u001b[0;31m \u001b[0mmovie_pivot2\u001b[0m\u001b[0;34m\u001b[0m\u001b[0m\n\u001b[0m",
            "\u001b[0;31mNameError\u001b[0m: name 'movie_pivot2' is not defined"
          ]
        }
      ]
    },
    {
      "metadata": {
        "trusted": true
      },
      "cell_type": "code",
      "source": "import platform\nfrom matplotlib import font_manager, rc\n\npath = \"c:/Windows/Fonts/malgun.ttf\"\nif platform.system() == 'Darwin':\n    rc('font', family='AppleGothic')\nelif platform.system() == 'Windows':\n    font_name = font_manager.FontProperties(fname=path).get_name()\n    rc('font', family=font_name)\nelse:\n    print('Unknown system... sorry~~~~') ",
      "execution_count": 55,
      "outputs": [
        {
          "output_type": "stream",
          "text": "Unknown system... sorry~~~~\n",
          "name": "stdout"
        }
      ]
    },
    {
      "metadata": {
        "trusted": true
      },
      "cell_type": "code",
      "source": "target_col = movie_pivot2.columns[:4]\nprint(\"Movie:\", target_col)\nplt.figure(figsize=(12,6))\nplt.plot(movie_pivot[target_col])\nplt.legend(target_col, loc='best')\nplt.grid()\nplt.show()",
      "execution_count": 56,
      "outputs": [
        {
          "output_type": "error",
          "ename": "NameError",
          "evalue": "name 'movie_pivot2' is not defined",
          "traceback": [
            "\u001b[0;31m---------------------------------------------------------------------------\u001b[0m",
            "\u001b[0;31mNameError\u001b[0m                                 Traceback (most recent call last)",
            "\u001b[0;32m<ipython-input-56-60b706a38ff2>\u001b[0m in \u001b[0;36m<module>\u001b[0;34m()\u001b[0m\n\u001b[0;32m----> 1\u001b[0;31m \u001b[0mtarget_col\u001b[0m \u001b[0;34m=\u001b[0m \u001b[0mmovie_pivot2\u001b[0m\u001b[0;34m.\u001b[0m\u001b[0mcolumns\u001b[0m\u001b[0;34m[\u001b[0m\u001b[0;34m:\u001b[0m\u001b[0;36m4\u001b[0m\u001b[0;34m]\u001b[0m\u001b[0;34m\u001b[0m\u001b[0m\n\u001b[0m\u001b[1;32m      2\u001b[0m \u001b[0mprint\u001b[0m\u001b[0;34m(\u001b[0m\u001b[0;34m\"Movie:\"\u001b[0m\u001b[0;34m,\u001b[0m \u001b[0mtarget_col\u001b[0m\u001b[0;34m)\u001b[0m\u001b[0;34m\u001b[0m\u001b[0m\n\u001b[1;32m      3\u001b[0m \u001b[0mplt\u001b[0m\u001b[0;34m.\u001b[0m\u001b[0mfigure\u001b[0m\u001b[0;34m(\u001b[0m\u001b[0mfigsize\u001b[0m\u001b[0;34m=\u001b[0m\u001b[0;34m(\u001b[0m\u001b[0;36m12\u001b[0m\u001b[0;34m,\u001b[0m\u001b[0;36m6\u001b[0m\u001b[0;34m)\u001b[0m\u001b[0;34m)\u001b[0m\u001b[0;34m\u001b[0m\u001b[0m\n\u001b[1;32m      4\u001b[0m \u001b[0mplt\u001b[0m\u001b[0;34m.\u001b[0m\u001b[0mplot\u001b[0m\u001b[0;34m(\u001b[0m\u001b[0mmovie_pivot\u001b[0m\u001b[0;34m[\u001b[0m\u001b[0mtarget_col\u001b[0m\u001b[0;34m]\u001b[0m\u001b[0;34m)\u001b[0m\u001b[0;34m\u001b[0m\u001b[0m\n\u001b[1;32m      5\u001b[0m \u001b[0mplt\u001b[0m\u001b[0;34m.\u001b[0m\u001b[0mlegend\u001b[0m\u001b[0;34m(\u001b[0m\u001b[0mtarget_col\u001b[0m\u001b[0;34m,\u001b[0m \u001b[0mloc\u001b[0m\u001b[0;34m=\u001b[0m\u001b[0;34m'best'\u001b[0m\u001b[0;34m)\u001b[0m\u001b[0;34m\u001b[0m\u001b[0m\n",
            "\u001b[0;31mNameError\u001b[0m: name 'movie_pivot2' is not defined"
          ]
        }
      ]
    },
    {
      "metadata": {
        "trusted": true
      },
      "cell_type": "code",
      "source": "",
      "execution_count": null,
      "outputs": []
    },
    {
      "metadata": {
        "trusted": true
      },
      "cell_type": "code",
      "source": "",
      "execution_count": null,
      "outputs": []
    },
    {
      "metadata": {
        "trusted": true
      },
      "cell_type": "code",
      "source": "",
      "execution_count": null,
      "outputs": []
    },
    {
      "metadata": {
        "trusted": true
      },
      "cell_type": "code",
      "source": "",
      "execution_count": null,
      "outputs": []
    },
    {
      "metadata": {
        "trusted": true
      },
      "cell_type": "code",
      "source": "",
      "execution_count": null,
      "outputs": []
    }
  ],
  "metadata": {
    "anaconda-cloud": {},
    "kernelspec": {
      "name": "python3",
      "display_name": "Python 3",
      "language": "python"
    },
    "language_info": {
      "mimetype": "text/x-python",
      "nbconvert_exporter": "python",
      "name": "python",
      "pygments_lexer": "ipython3",
      "version": "3.5.4",
      "file_extension": ".py",
      "codemirror_mode": {
        "version": 3,
        "name": "ipython"
      }
    }
  },
  "nbformat": 4,
  "nbformat_minor": 1
}